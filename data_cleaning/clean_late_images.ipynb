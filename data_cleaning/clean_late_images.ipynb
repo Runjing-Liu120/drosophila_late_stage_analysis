{
 "cells": [
  {
   "cell_type": "code",
   "execution_count": 1,
   "metadata": {
    "collapsed": false,
    "scrolled": true
   },
   "outputs": [
    {
     "name": "stderr",
     "output_type": "stream",
     "text": [
      "Loading tidyverse: ggplot2\n",
      "Loading tidyverse: tibble\n",
      "Loading tidyverse: tidyr\n",
      "Loading tidyverse: readr\n",
      "Loading tidyverse: purrr\n",
      "Loading tidyverse: dplyr\n",
      "Conflicts with tidy packages ---------------------------------------------------\n",
      "filter(): dplyr, stats\n",
      "lag():    dplyr, stats\n",
      "Loading required package: Matrix\n",
      "\n",
      "Attaching package: ‘Matrix’\n",
      "\n",
      "The following object is masked from ‘package:tidyr’:\n",
      "\n",
      "    expand\n",
      "\n",
      "Loading required package: foreach\n",
      "\n",
      "Attaching package: ‘foreach’\n",
      "\n",
      "The following objects are masked from ‘package:purrr’:\n",
      "\n",
      "    accumulate, when\n",
      "\n",
      "Loaded glmnet 2.0-16\n",
      "\n",
      "Loading required package: scales\n",
      "\n",
      "Attaching package: ‘scales’\n",
      "\n",
      "The following object is masked from ‘package:purrr’:\n",
      "\n",
      "    discard\n",
      "\n",
      "The following object is masked from ‘package:readr’:\n",
      "\n",
      "    col_factor\n",
      "\n",
      "Loading required package: gridExtra\n",
      "\n",
      "Attaching package: ‘gridExtra’\n",
      "\n",
      "The following object is masked from ‘package:dplyr’:\n",
      "\n",
      "    combine\n",
      "\n"
     ]
    }
   ],
   "source": [
    "library(tidyverse)\n",
    "library(glmnet)\n",
    "library(superheat)\n",
    "library(grid)\n",
    "\n",
    "source('../utils/plottingUtilities.R')"
   ]
  },
  {
   "cell_type": "code",
   "execution_count": 2,
   "metadata": {
    "collapsed": true
   },
   "outputs": [],
   "source": [
    "# this is the original late data\n",
    "# stored in \"late\"\n",
    "load('../data/lateData.Rdata')"
   ]
  },
  {
   "cell_type": "markdown",
   "metadata": {},
   "source": [
    "# Plot dictionaries"
   ]
  },
  {
   "cell_type": "code",
   "execution_count": 3,
   "metadata": {
    "collapsed": true
   },
   "outputs": [],
   "source": [
    "multiplot <- function(..., plotlist=NULL, cols=1, layout=NULL, widths=NULL, heights=NULL, \n",
    "                      title=NULL, titlefont = \"\", titleface = 1, titlesize = 16) {\n",
    "  \n",
    "  # Make a list from the ... arguments and plotlist\n",
    "  plots <- c(list(...), plotlist)\n",
    "  \n",
    "  numPlots = length(plots)\n",
    "  \n",
    "  # If layout is NULL, then use 'cols' to determine layout\n",
    "  if (is.null(layout)) {\n",
    "    # Make the panel\n",
    "    # ncol: Number of columns of plots\n",
    "    # nrow: Number of rows needed, calculated from # of cols\n",
    "    layout <- matrix(seq(1, cols * ceiling(numPlots/cols)),\n",
    "                     ncol = cols, nrow = ceiling(numPlots/cols))\n",
    "  }\n",
    "  \n",
    "  if (!is.null(title)) { # Add a narrow row at the top for the title\n",
    "    layout <- rbind(rep(0,ncol(layout)),layout)\n",
    "    if (is.null(heights)) {\n",
    "      plotrows <- nrow(layout)-1\n",
    "      rowheights <- c(0.1, rep(1,plotrows)/plotrows)\n",
    "    } else {\n",
    "      rowheights <- c(0.1, heights/sum(heights))\n",
    "    }\n",
    "  } else {\n",
    "    if (is.null(heights)) {\n",
    "      rowheights <- rep(1,nrow(layout))  \n",
    "    } else {\n",
    "      rowheights <- heights\n",
    "    }\n",
    "  }\n",
    "  \n",
    "  if (is.null(widths)) {\n",
    "    colwidths <- rep(1, cols)\n",
    "  } else {\n",
    "    colwidths <- widths\n",
    "  }\n",
    "  \n",
    "  if (numPlots==1) {\n",
    "    \n",
    "    return(plots[[1]] + labs(title=title))\n",
    "    \n",
    "  } else {\n",
    "    # Set up the page\n",
    "    grid.newpage()\n",
    "    pushViewport(viewport(layout = grid.layout(nrow(layout), ncol(layout), \n",
    "                                               widths=colwidths, \n",
    "                                               heights=rowheights)))\n",
    "    \n",
    "    # Make each plot, in the correct location\n",
    "    for (i in 1:numPlots) {\n",
    "      # Get the i,j matrix positions of the regions that contain this subplot\n",
    "      matchidx <- as.data.frame(which(layout == i, arr.ind = TRUE))\n",
    "      \n",
    "      print(plots[[i]], vp = viewport(layout.pos.row = matchidx$row,\n",
    "                                      layout.pos.col = matchidx$col))\n",
    "    }\n",
    "    \n",
    "    if (!is.null(title)) {\n",
    "      grid.text(title, vp = viewport(layout.pos.row = 1\n",
    "                                     , layout.pos.col = 1:ncol(layout)), \n",
    "                gp = gpar(fontfamily = titlefont, fontface = titleface, \n",
    "                          fontsize = titlesize))\n",
    "    }\n",
    "    \n",
    "  }\n",
    "return(invisible(NULL))\n",
    "}\n"
   ]
  },
  {
   "cell_type": "code",
   "execution_count": 4,
   "metadata": {
    "collapsed": false
   },
   "outputs": [],
   "source": [
    "plot_all_PPs <- function(dict, template, reference = NULL, ncols = 5){\n",
    "  \n",
    "  if(is.null(reference)){\n",
    "    perm <- seq(1, dim(dict)[2], by= 1)\n",
    "  }else{\n",
    "    # we sort the dictionary by comparing it with a reference dictionary\n",
    "    remove_col <- c()\n",
    "    perm <- c()\n",
    "    for(i in 1:dim(reference)[2]){\n",
    "        diff <- t(as.matrix(dict)) %*% reference[, i]\n",
    "        perm_ <- order(diff, decreasing = TRUE)\n",
    "\n",
    "        perm_ <- perm_[!(perm_ %in% remove_col)]\n",
    "        perm <- c(perm, perm_[1])\n",
    "        remove_col <- c(remove_col, perm_[1])\n",
    "    }      \n",
    "    \n",
    "  }\n",
    "\n",
    "    p <- list()\n",
    "      for(i in 1:dim(dict)[2]){\n",
    "        p[[i]] <- plotImg(dict[, perm[i]], late$template, FALSE)\n",
    "      }\n",
    "\n",
    "      plot <- multiplot(plotlist = p, cols = ncols)\n",
    "\n",
    "    return(perm)\n",
    "}"
   ]
  },
  {
   "cell_type": "markdown",
   "metadata": {},
   "source": [
    "## The original staNMF fit  "
   ]
  },
  {
   "cell_type": "code",
   "execution_count": 5,
   "metadata": {
    "collapsed": false,
    "scrolled": false
   },
   "outputs": [
    {
     "ename": "ERROR",
     "evalue": "Error in ggtitle(label): argument \"label\" is missing, with no default\n",
     "output_type": "error",
     "traceback": [
      "Error in ggtitle(label): argument \"label\" is missing, with no default\nTraceback:\n",
      "1. plot_all_PPs(late$dict, late$template)",
      "2. plotImg(dict[, perm[i]], late$template, FALSE)   # at line 22 of file <text>",
      "3. ggtitle(label)",
      "4. labs(title = label, subtitle = subtitle)"
     ]
    }
   ],
   "source": [
    "# NOTE PPs are column ordered\n",
    "options(repr.plot.width = 6, repr.plot.height = 4)\n",
    "plot_all_PPs(late$dict, late$template)"
   ]
  },
  {
   "cell_type": "markdown",
   "metadata": {},
   "source": [
    "# get genes with replicates "
   ]
  },
  {
   "cell_type": "code",
   "execution_count": 6,
   "metadata": {
    "collapsed": true
   },
   "outputs": [],
   "source": [
    "table_genes <- table(late$gene.names)\n",
    "repeated_genes <- names(table_genes)[table_genes > 1]\n",
    "n_repeated_genes <- length(repeated_genes)"
   ]
  },
  {
   "cell_type": "code",
   "execution_count": null,
   "metadata": {
    "collapsed": false
   },
   "outputs": [],
   "source": [
    "# distribution of number of replicates\n",
    "hist(table_genes)"
   ]
  },
  {
   "cell_type": "markdown",
   "metadata": {},
   "source": [
    "# get correlations"
   ]
  },
  {
   "cell_type": "code",
   "execution_count": null,
   "metadata": {
    "collapsed": true
   },
   "outputs": [],
   "source": [
    "get_all_pairwise_correlations <- function(x){\n",
    "    # x is matrix of pixel values\n",
    "    # each column is a vector of pixel values corresponding to a replicate\n",
    "    # returns all pairwise correlations\n",
    "\n",
    "    correlations <- cor(x)\n",
    "    upper_triangular_indx <- row(correlations) <= (col(correlations) - 1)\n",
    "\n",
    "    return(correlations[upper_triangular_indx])\n",
    "}\n"
   ]
  },
  {
   "cell_type": "code",
   "execution_count": null,
   "metadata": {
    "collapsed": false
   },
   "outputs": [],
   "source": [
    "n_repeated_genes <- length(repeated_genes)\n",
    "\n",
    "correlations_all <- c()\n",
    "\n",
    "for(i in 1:n_repeated_genes){\n",
    "    x <- late$x[, colnames(late$x) == repeated_genes[i]]\n",
    "    \n",
    "    stopifnot(dim(x)[2] > 1) # check gene is actually repeated\n",
    "    \n",
    "    correlations_all <- c(correlations_all, get_all_pairwise_correlations(x))\n",
    "}\n",
    "\n",
    "\n",
    "hist(correlations_all)"
   ]
  },
  {
   "cell_type": "markdown",
   "metadata": {},
   "source": [
    "# Pick out problematic replicates"
   ]
  },
  {
   "cell_type": "code",
   "execution_count": null,
   "metadata": {
    "collapsed": true
   },
   "outputs": [],
   "source": [
    "# pick a threshold \n",
    "thresh <- 0.5"
   ]
  },
  {
   "cell_type": "code",
   "execution_count": null,
   "metadata": {
    "collapsed": true
   },
   "outputs": [],
   "source": [
    "which_problematic <- c()\n",
    "for(i in 1:n_repeated_genes){\n",
    "    x <- late$x[, colnames(late$x) == repeated_genes[i]]\n",
    "    \n",
    "    stopifnot(dim(x)[2] > 1) # check gene is actually repeated\n",
    "    \n",
    "    correlations <- get_all_pairwise_correlations(x)\n",
    "    \n",
    "    if(any(correlations < thresh)){\n",
    "        which_problematic <- c(which_problematic, repeated_genes[i])\n",
    "    }\n",
    "}\n"
   ]
  },
  {
   "cell_type": "code",
   "execution_count": null,
   "metadata": {
    "collapsed": false
   },
   "outputs": [],
   "source": [
    "which_problematic"
   ]
  },
  {
   "cell_type": "code",
   "execution_count": null,
   "metadata": {
    "collapsed": false
   },
   "outputs": [],
   "source": [
    "sum(table_genes[names(table_genes) %in% which_problematic] == 3)"
   ]
  },
  {
   "cell_type": "code",
   "execution_count": null,
   "metadata": {
    "collapsed": true
   },
   "outputs": [],
   "source": []
  },
  {
   "cell_type": "code",
   "execution_count": null,
   "metadata": {
    "collapsed": false,
    "scrolled": false
   },
   "outputs": [],
   "source": [
    "# plot gene\n",
    "for(i in 1:length(which_problematic)){    \n",
    "    gene <- which_problematic[i]\n",
    "    indx <- which(late$gene.names == gene)\n",
    "    \n",
    "    if(length(indx) > 2){\n",
    "        foo <- 1 \n",
    "    }else{\n",
    "        p <- list()\n",
    "\n",
    "        for(i in 1:length(indx)){\n",
    "            p[[i]] <- plotImg(late$x[, indx[i]], late$template, FALSE)    \n",
    "        }\n",
    "\n",
    "        options(repr.plot.width = 6, repr.plot.height = 2)\n",
    "        multiplot(plotlist = p, cols = length(indx), title = gene)\n",
    "    }\n",
    "}\n"
   ]
  },
  {
   "cell_type": "code",
   "execution_count": null,
   "metadata": {
    "collapsed": false,
    "scrolled": false
   },
   "outputs": [],
   "source": [
    "# plot gene\n",
    "for(i in 1:length(which_problematic)){    \n",
    "    gene <- which_problematic[i]\n",
    "    indx <- which(late$gene.names == gene)\n",
    "    \n",
    "    if(length(indx) != 3){\n",
    "        foo <- 1 \n",
    "    }else{\n",
    "        p <- list()\n",
    "\n",
    "        for(i in 1:length(indx)){\n",
    "            p[[i]] <- plotImg(late$x[, indx[i]], late$template, FALSE)    \n",
    "        }\n",
    "\n",
    "        options(repr.plot.width = 9, repr.plot.height = 2)\n",
    "        multiplot(plotlist = p, cols = length(indx), title = gene)\n",
    "    }\n",
    "}\n"
   ]
  },
  {
   "cell_type": "code",
   "execution_count": null,
   "metadata": {
    "collapsed": false
   },
   "outputs": [],
   "source": [
    "# plot gene\n",
    "for(i in 1:length(which_problematic)){    \n",
    "    gene <- which_problematic[i]\n",
    "    indx <- which(late$gene.names == gene)\n",
    "    \n",
    "    if(length(indx) != 4){\n",
    "        foo <- 1 \n",
    "    }else{\n",
    "        p <- list()\n",
    "\n",
    "        for(i in 1:length(indx)){\n",
    "            p[[i]] <- plotImg(late$x[, indx[i]], late$template, FALSE)    \n",
    "        }\n",
    "\n",
    "        options(repr.plot.width = 12, repr.plot.height = 2)\n",
    "        multiplot(plotlist = p, cols = length(indx), title = gene)\n",
    "    }\n",
    "}\n"
   ]
  },
  {
   "cell_type": "code",
   "execution_count": null,
   "metadata": {
    "collapsed": false
   },
   "outputs": [],
   "source": [
    "# plot gene\n",
    "for(i in 1:length(which_problematic)){    \n",
    "    gene <- which_problematic[i]\n",
    "    indx <- which(late$gene.names == gene)\n",
    "    \n",
    "    if(length(indx) != 5){\n",
    "        foo <- 1 \n",
    "    }else{\n",
    "        p <- list()\n",
    "\n",
    "        for(i in 1:length(indx)){\n",
    "            p[[i]] <- plotImg(late$x[, indx[i]], late$template, FALSE)    \n",
    "        }\n",
    "\n",
    "        options(repr.plot.width = 15, repr.plot.height = 2)\n",
    "        multiplot(plotlist = p, cols = length(indx), title = gene)\n",
    "    }\n",
    "}\n"
   ]
  },
  {
   "cell_type": "code",
   "execution_count": null,
   "metadata": {
    "collapsed": false
   },
   "outputs": [],
   "source": [
    "# plot gene\n",
    "for(i in 1:length(which_problematic)){    \n",
    "    gene <- which_problematic[i]\n",
    "    indx <- which(late$gene.names == gene)\n",
    "    \n",
    "    if(length(indx) != 6){\n",
    "        foo <- 1 \n",
    "    }else{\n",
    "        p <- list()\n",
    "\n",
    "        for(i in 1:length(indx)){\n",
    "            p[[i]] <- plotImg(late$x[, indx[i]], late$template, FALSE)    \n",
    "        }\n",
    "\n",
    "        options(repr.plot.width = 18, repr.plot.height = 2)\n",
    "        multiplot(plotlist = p, cols = length(indx), title = gene)\n",
    "    }\n",
    "}\n"
   ]
  },
  {
   "cell_type": "markdown",
   "metadata": {
    "collapsed": true
   },
   "source": [
    "# Fix gene images according to recommendations by Erwin"
   ]
  },
  {
   "cell_type": "markdown",
   "metadata": {},
   "source": [
    "There are a few possibilities: \n",
    "\n",
    "* The image was out of focus, and does not represent a real expression pattern; remove these replicates \n",
    "\n",
    "* For some genes, the expression of each replicate only captured a subset of the the true expression pattern; so here, we take either the max or average of the replicates\n",
    "\n",
    "* The gene is actually dynamic in the late stage, and the different replicates were taken at slightly different points in time; here, the difference in replicates represent real variation. We append a letter \"_a\", \"_b\", \"_c\", etc and treat the replicates as different genes"
   ]
  },
  {
   "cell_type": "code",
   "execution_count": null,
   "metadata": {
    "code_folding": [],
    "collapsed": false
   },
   "outputs": [],
   "source": [
    "# we store the clean images in clean_x\n",
    "# keep only those which were not problematic\n",
    "clean_x <- late$x[,  !(late$gene.names %in% which_problematic)]"
   ]
  },
  {
   "cell_type": "code",
   "execution_count": null,
   "metadata": {
    "collapsed": false
   },
   "outputs": [],
   "source": [
    "dim(clean_x)"
   ]
  },
  {
   "cell_type": "code",
   "execution_count": null,
   "metadata": {
    "collapsed": true
   },
   "outputs": [],
   "source": [
    "# we go through each problematic gene, and apply Erwin's recommendation "
   ]
  },
  {
   "cell_type": "code",
   "execution_count": null,
   "metadata": {
    "collapsed": false
   },
   "outputs": [],
   "source": [
    "clean_x <- cbind(clean_x, late$x[, late$gene.names == 'Aldh'][, 2])\n",
    "colnames(clean_x)[dim(clean_x)[2]] <- 'Aldh'\n",
    "\n",
    "options(repr.plot.width = 3, repr.plot.height = 2)\n",
    "plotImg(clean_x[, colnames(clean_x) == 'Aldh'], late$template, FALSE)    "
   ]
  },
  {
   "cell_type": "code",
   "execution_count": null,
   "metadata": {
    "collapsed": false
   },
   "outputs": [],
   "source": []
  },
  {
   "cell_type": "code",
   "execution_count": null,
   "metadata": {
    "collapsed": false
   },
   "outputs": [],
   "source": [
    "clean_x <- cbind(clean_x, late$x[, late$gene.names == 'Alhambra'][, 2])\n",
    "colnames(clean_x)[dim(clean_x)[2]] <- 'Alhambra'\n",
    "\n",
    "plotImg(clean_x[, colnames(clean_x) == 'Alhambra'], late$template, FALSE)    "
   ]
  },
  {
   "cell_type": "code",
   "execution_count": null,
   "metadata": {
    "collapsed": false
   },
   "outputs": [],
   "source": [
    "foo <- late$x[, late$gene.names == 'Ance']\n",
    "colnames(foo) <- c('Ance_1', 'Ance_2')\n",
    "clean_x <- cbind(clean_x, foo)"
   ]
  },
  {
   "cell_type": "code",
   "execution_count": null,
   "metadata": {
    "collapsed": false
   },
   "outputs": [],
   "source": [
    "clean_x <- cbind(clean_x, late$x[, late$gene.names == 'aret'][, 2])\n",
    "colnames(clean_x)[dim(clean_x)[2]] <- 'aret'\n",
    "\n",
    "plotImg(clean_x[, colnames(clean_x) == 'aret'], late$template, FALSE)    "
   ]
  },
  {
   "cell_type": "code",
   "execution_count": null,
   "metadata": {
    "collapsed": false
   },
   "outputs": [],
   "source": [
    "foo <- late$x[, late$gene.names == 'brk']\n",
    "clean_x <- cbind(clean_x, apply(foo, 1, max))\n",
    "\n",
    "colnames(clean_x)[dim(clean_x)[2]] <- 'brk'\n",
    "\n",
    "plotImg(clean_x[, colnames(clean_x) == 'brk'], late$template, FALSE)    "
   ]
  },
  {
   "cell_type": "code",
   "execution_count": null,
   "metadata": {
    "collapsed": false
   },
   "outputs": [],
   "source": [
    "clean_x <- cbind(clean_x, late$x[, late$gene.names == 'CG10053'][, 2])\n",
    "colnames(clean_x)[dim(clean_x)[2]] <- 'CG10053'\n",
    "\n",
    "plotImg(clean_x[, colnames(clean_x) == 'CG10053'], late$template, FALSE)    "
   ]
  },
  {
   "cell_type": "code",
   "execution_count": null,
   "metadata": {
    "collapsed": true
   },
   "outputs": [],
   "source": [
    "# CG12744 CG12909 CG1598 are OK\n",
    "clean_x <- cbind(clean_x, late$x[, late$gene.names == 'CG12744'])\n",
    "clean_x <- cbind(clean_x, late$x[, late$gene.names == 'CG12909'])\n",
    "clean_x <- cbind(clean_x, late$x[, late$gene.names == 'CG1598'])"
   ]
  },
  {
   "cell_type": "code",
   "execution_count": null,
   "metadata": {
    "collapsed": false
   },
   "outputs": [],
   "source": [
    "foo <- late$x[, late$gene.names == 'CG3184']\n",
    "clean_x <- cbind(clean_x, apply(foo, 1, max))\n",
    "\n",
    "colnames(clean_x)[dim(clean_x)[2]] <- 'CG3184'\n",
    "\n",
    "plotImg(clean_x[, colnames(clean_x) == 'CG3184'], late$template, FALSE)    "
   ]
  },
  {
   "cell_type": "code",
   "execution_count": null,
   "metadata": {
    "collapsed": false
   },
   "outputs": [],
   "source": [
    "clean_x <- cbind(clean_x, late$x[, late$gene.names == 'CG3249'][, 1])\n",
    "colnames(clean_x)[dim(clean_x)[2]] <- 'CG3249'\n",
    "\n",
    "plotImg(clean_x[, colnames(clean_x) == 'CG3249'], late$template, FALSE)    "
   ]
  },
  {
   "cell_type": "code",
   "execution_count": null,
   "metadata": {
    "collapsed": true
   },
   "outputs": [],
   "source": [
    "foo <- late$x[, late$gene.names == 'CG3838']\n",
    "colnames(foo) <- c('CG3838_1', 'CG3838_2')\n",
    "clean_x <- cbind(clean_x, foo)"
   ]
  },
  {
   "cell_type": "code",
   "execution_count": null,
   "metadata": {
    "collapsed": false
   },
   "outputs": [],
   "source": [
    "foo <- late$x[, late$gene.names == 'CG5888']\n",
    "clean_x <- cbind(clean_x, apply(foo, 1, max))\n",
    "\n",
    "colnames(clean_x)[dim(clean_x)[2]] <- 'CG5888'\n",
    "\n",
    "plotImg(clean_x[, colnames(clean_x) == 'CG5888'], late$template, FALSE)    "
   ]
  },
  {
   "cell_type": "code",
   "execution_count": null,
   "metadata": {
    "collapsed": false
   },
   "outputs": [],
   "source": [
    "clean_x <- cbind(clean_x, late$x[, late$gene.names == 'CG6070'][, 2])\n",
    "colnames(clean_x)[dim(clean_x)[2]] <- 'CG6070'\n",
    "\n",
    "plotImg(clean_x[, colnames(clean_x) == 'CG6070'], late$template, FALSE)    "
   ]
  },
  {
   "cell_type": "code",
   "execution_count": null,
   "metadata": {
    "collapsed": false
   },
   "outputs": [],
   "source": [
    "foo <- late$x[, late$gene.names == 'CG6206']\n",
    "clean_x <- cbind(clean_x, apply(foo, 1, max))\n",
    "\n",
    "colnames(clean_x)[dim(clean_x)[2]] <- 'CG6206'\n",
    "\n",
    "plotImg(clean_x[, colnames(clean_x) == 'CG6206'], late$template, FALSE)    "
   ]
  },
  {
   "cell_type": "code",
   "execution_count": null,
   "metadata": {
    "collapsed": true
   },
   "outputs": [],
   "source": [
    "foo <- late$x[, late$gene.names == 'CG6563']\n",
    "colnames(foo) <- c('CG6563_1', 'CG6563_2')\n",
    "clean_x <- cbind(clean_x, foo)"
   ]
  },
  {
   "cell_type": "code",
   "execution_count": null,
   "metadata": {
    "collapsed": false
   },
   "outputs": [],
   "source": [
    "clean_x <- cbind(clean_x, late$x[, late$gene.names == 'cic'][, 2])\n",
    "colnames(clean_x)[dim(clean_x)[2]] <- 'cic'\n",
    "\n",
    "plotImg(clean_x[, colnames(clean_x) == 'cic'], late$template, FALSE)    "
   ]
  },
  {
   "cell_type": "code",
   "execution_count": null,
   "metadata": {
    "collapsed": false
   },
   "outputs": [],
   "source": [
    "clean_x <- cbind(clean_x, late$x[, late$gene.names == 'comm2'][, 2])\n",
    "colnames(clean_x)[dim(clean_x)[2]] <- 'comm2'\n",
    "\n",
    "plotImg(clean_x[, colnames(clean_x) == 'comm2'], late$template, FALSE)    "
   ]
  },
  {
   "cell_type": "code",
   "execution_count": null,
   "metadata": {
    "collapsed": false
   },
   "outputs": [],
   "source": [
    "clean_x <- cbind(clean_x, late$x[, late$gene.names == 'disco'][, 2])\n",
    "colnames(clean_x)[dim(clean_x)[2]] <- 'disco'\n",
    "\n",
    "plotImg(clean_x[, colnames(clean_x) == 'disco'], late$template, FALSE)    "
   ]
  },
  {
   "cell_type": "code",
   "execution_count": null,
   "metadata": {
    "collapsed": false
   },
   "outputs": [],
   "source": [
    "foo <- late$x[, late$gene.names == 'Dp']\n",
    "clean_x <- cbind(clean_x, apply(foo, 1, max))\n",
    "\n",
    "colnames(clean_x)[dim(clean_x)[2]] <- 'Dp'\n",
    "\n",
    "plotImg(clean_x[, colnames(clean_x) == 'Dp'], late$template, FALSE)    "
   ]
  },
  {
   "cell_type": "code",
   "execution_count": null,
   "metadata": {
    "collapsed": true
   },
   "outputs": [],
   "source": [
    "foo <- late$x[, late$gene.names == 'dpn']\n",
    "colnames(foo) <- c('dpn_1', 'dpn_2')\n",
    "clean_x <- cbind(clean_x, foo)"
   ]
  },
  {
   "cell_type": "code",
   "execution_count": null,
   "metadata": {
    "collapsed": true
   },
   "outputs": [],
   "source": [
    "foo <- late$x[, late$gene.names == 'ebi']\n",
    "colnames(foo) <- c('ebi_1', 'ebi_2')\n",
    "clean_x <- cbind(clean_x, foo)"
   ]
  },
  {
   "cell_type": "code",
   "execution_count": null,
   "metadata": {
    "collapsed": false
   },
   "outputs": [],
   "source": [
    "foo <- late$x[, late$gene.names == 'E(spl)']\n",
    "clean_x <- cbind(clean_x, apply(foo, 1, max))\n",
    "\n",
    "colnames(clean_x)[dim(clean_x)[2]] <- 'E(spl)'\n",
    "\n",
    "plotImg(clean_x[, colnames(clean_x) == 'E(spl)'], late$template, FALSE)    "
   ]
  },
  {
   "cell_type": "code",
   "execution_count": null,
   "metadata": {
    "collapsed": true
   },
   "outputs": [],
   "source": [
    "foo <- late$x[, late$gene.names == 'gcm']\n",
    "colnames(foo) <- c('gcm_1', 'gcm_2')\n",
    "clean_x <- cbind(clean_x, foo)"
   ]
  },
  {
   "cell_type": "code",
   "execution_count": null,
   "metadata": {
    "collapsed": false
   },
   "outputs": [],
   "source": [
    "clean_x <- cbind(clean_x, late$x[, late$gene.names == 'Grip'][, 2])\n",
    "colnames(clean_x)[dim(clean_x)[2]] <- 'Grip'\n",
    "\n",
    "plotImg(clean_x[, colnames(clean_x) == 'Grip'], late$template, FALSE)    "
   ]
  },
  {
   "cell_type": "code",
   "execution_count": null,
   "metadata": {
    "collapsed": true
   },
   "outputs": [],
   "source": [
    "foo <- late$x[, late$gene.names == 'HGTX']\n",
    "colnames(foo) <- c('HGTX_1', 'HGTX_2')\n",
    "clean_x <- cbind(clean_x, foo)"
   ]
  },
  {
   "cell_type": "code",
   "execution_count": null,
   "metadata": {
    "collapsed": false
   },
   "outputs": [],
   "source": [
    "foo <- late$x[, late$gene.names == 'l(3)82Fd']\n",
    "colnames(foo) <- c('l(3)82Fd_1', 'l(3)82Fd_2')\n",
    "clean_x <- cbind(clean_x, foo)"
   ]
  },
  {
   "cell_type": "code",
   "execution_count": null,
   "metadata": {
    "collapsed": true
   },
   "outputs": [],
   "source": [
    "foo <- late$x[, late$gene.names == 'lab']\n",
    "colnames(foo) <- c('lab_1', 'lab_2')\n",
    "clean_x <- cbind(clean_x, foo)"
   ]
  },
  {
   "cell_type": "code",
   "execution_count": null,
   "metadata": {
    "collapsed": false
   },
   "outputs": [],
   "source": [
    "foo <- late$x[, late$gene.names == 'loner']\n",
    "clean_x <- cbind(clean_x, apply(foo, 1, max))\n",
    "\n",
    "colnames(clean_x)[dim(clean_x)[2]] <- 'loner'\n",
    "\n",
    "plotImg(clean_x[, colnames(clean_x) == 'loner'], late$template, FALSE)    "
   ]
  },
  {
   "cell_type": "code",
   "execution_count": null,
   "metadata": {
    "collapsed": true
   },
   "outputs": [],
   "source": [
    "foo <- late$x[, late$gene.names == 'mael']\n",
    "colnames(foo) <- c('mael_1', 'mael_2')\n",
    "clean_x <- cbind(clean_x, foo)"
   ]
  },
  {
   "cell_type": "code",
   "execution_count": null,
   "metadata": {
    "collapsed": false
   },
   "outputs": [],
   "source": [
    "foo <- late$x[, late$gene.names == 'Mipp1']\n",
    "clean_x <- cbind(clean_x, apply(foo, 1, max))\n",
    "\n",
    "colnames(clean_x)[dim(clean_x)[2]] <- 'Mipp1'\n",
    "\n",
    "plotImg(clean_x[, colnames(clean_x) == 'Mipp1'], late$template, FALSE)    "
   ]
  },
  {
   "cell_type": "code",
   "execution_count": null,
   "metadata": {
    "collapsed": false
   },
   "outputs": [],
   "source": [
    "foo <- late$x[, late$gene.names == 'Nap1']\n",
    "clean_x <- cbind(clean_x, apply(foo, 1, max))\n",
    "\n",
    "colnames(clean_x)[dim(clean_x)[2]] <- 'Nap1'\n",
    "\n",
    "plotImg(clean_x[, colnames(clean_x) == 'Nap1'], late$template, FALSE)    "
   ]
  },
  {
   "cell_type": "code",
   "execution_count": null,
   "metadata": {
    "collapsed": false
   },
   "outputs": [],
   "source": [
    "foo <- late$x[, late$gene.names == 'noc']\n",
    "clean_x <- cbind(clean_x, apply(foo, 1, max))\n",
    "\n",
    "colnames(clean_x)[dim(clean_x)[2]] <- 'noc'\n",
    "\n",
    "plotImg(clean_x[, colnames(clean_x) == 'noc'], late$template, FALSE)    "
   ]
  },
  {
   "cell_type": "code",
   "execution_count": null,
   "metadata": {
    "collapsed": false
   },
   "outputs": [],
   "source": [
    "foo <- late$x[, late$gene.names == 'nrv2']\n",
    "clean_x <- cbind(clean_x, apply(foo, 1, max))\n",
    "\n",
    "colnames(clean_x)[dim(clean_x)[2]] <- 'nrv2'\n",
    "\n",
    "plotImg(clean_x[, colnames(clean_x) == 'nrv2'], late$template, FALSE)    "
   ]
  },
  {
   "cell_type": "code",
   "execution_count": null,
   "metadata": {
    "collapsed": false
   },
   "outputs": [],
   "source": [
    "clean_x <- cbind(clean_x, late$x[, late$gene.names == 'Optix'][, 2])\n",
    "colnames(clean_x)[dim(clean_x)[2]] <- 'Optix'\n",
    "\n",
    "plotImg(clean_x[, colnames(clean_x) == 'Optix'], late$template, FALSE)    "
   ]
  },
  {
   "cell_type": "code",
   "execution_count": null,
   "metadata": {
    "collapsed": true
   },
   "outputs": [],
   "source": [
    "# pnt is OK\n",
    "clean_x <- cbind(clean_x, late$x[, late$gene.names == 'pnt'])"
   ]
  },
  {
   "cell_type": "code",
   "execution_count": null,
   "metadata": {
    "collapsed": true
   },
   "outputs": [],
   "source": [
    "foo <- late$x[, late$gene.names == 'sc']\n",
    "colnames(foo) <- c('sc_1', 'sc_2')\n",
    "clean_x <- cbind(clean_x, foo)"
   ]
  },
  {
   "cell_type": "code",
   "execution_count": null,
   "metadata": {
    "collapsed": false
   },
   "outputs": [],
   "source": [
    "clean_x <- cbind(clean_x, late$x[, late$gene.names == 'toy'][, 1])\n",
    "colnames(clean_x)[dim(clean_x)[2]] <- 'toy'\n",
    "\n",
    "plotImg(clean_x[, colnames(clean_x) == 'toy'], late$template, FALSE)    "
   ]
  },
  {
   "cell_type": "code",
   "execution_count": null,
   "metadata": {
    "collapsed": true
   },
   "outputs": [],
   "source": [
    "foo <- late$x[, late$gene.names == 'ttk']\n",
    "colnames(foo) <- c('ttk_1', 'ttk_2')\n",
    "clean_x <- cbind(clean_x, foo)"
   ]
  },
  {
   "cell_type": "code",
   "execution_count": null,
   "metadata": {
    "collapsed": true
   },
   "outputs": [],
   "source": [
    "foo <- late$x[, late$gene.names == 'tup']\n",
    "colnames(foo) <- c('tup_1', 'tup_2')\n",
    "clean_x <- cbind(clean_x, foo)"
   ]
  },
  {
   "cell_type": "code",
   "execution_count": null,
   "metadata": {
    "collapsed": false
   },
   "outputs": [],
   "source": [
    "foo <- late$x[, late$gene.names == 'Ubx']\n",
    "clean_x <- cbind(clean_x, apply(foo, 1, max))\n",
    "\n",
    "colnames(clean_x)[dim(clean_x)[2]] <- 'Ubx'\n",
    "\n",
    "plotImg(clean_x[, colnames(clean_x) == 'Ubx'], late$template, FALSE)    "
   ]
  },
  {
   "cell_type": "code",
   "execution_count": null,
   "metadata": {
    "collapsed": false
   },
   "outputs": [],
   "source": [
    "clean_x <- cbind(clean_x, late$x[, late$gene.names == 'unpg'][, 1])\n",
    "colnames(clean_x)[dim(clean_x)[2]] <- 'unpg'\n",
    "\n",
    "plotImg(clean_x[, colnames(clean_x) == 'unpg'], late$template, FALSE)    "
   ]
  },
  {
   "cell_type": "code",
   "execution_count": null,
   "metadata": {
    "collapsed": false
   },
   "outputs": [],
   "source": [
    "foo <- late$x[, late$gene.names == 'CG12489']\n",
    "\n",
    "foo2 <- cbind(apply(foo[, c(1, 2)], 1, max), foo[, 3])\n",
    "\n",
    "colnames(foo2) <- c('CG12489_1', 'CG12489_2')\n",
    "\n",
    "clean_x <- cbind(clean_x, foo2)\n",
    "\n",
    "plotImg(clean_x[, colnames(clean_x) == 'CG12489_1'], late$template, FALSE)    "
   ]
  },
  {
   "cell_type": "code",
   "execution_count": null,
   "metadata": {
    "collapsed": false
   },
   "outputs": [],
   "source": [
    "plotImg(clean_x[, colnames(clean_x) == 'CG12489_2'], late$template, FALSE)    "
   ]
  },
  {
   "cell_type": "code",
   "execution_count": null,
   "metadata": {
    "collapsed": true
   },
   "outputs": [],
   "source": [
    "foo <- late$x[, late$gene.names == 'CG13624']\n",
    "colnames(foo) <- c('CG13624_1', 'CG13624_2', 'CG13624_3')\n",
    "clean_x <- cbind(clean_x, foo)"
   ]
  },
  {
   "cell_type": "code",
   "execution_count": null,
   "metadata": {
    "collapsed": false
   },
   "outputs": [],
   "source": [
    "clean_x <- cbind(clean_x, late$x[, late$gene.names == 'CG8066'][, c(1, 2)])"
   ]
  },
  {
   "cell_type": "code",
   "execution_count": null,
   "metadata": {
    "collapsed": false
   },
   "outputs": [],
   "source": [
    "clean_x <- cbind(clean_x, late$x[, late$gene.names == 'CG9663'][, 2])\n",
    "colnames(clean_x)[dim(clean_x)[2]] <- 'CG9663'\n",
    "\n",
    "plotImg(clean_x[, colnames(clean_x) == 'CG9663'], late$template, FALSE)    "
   ]
  },
  {
   "cell_type": "code",
   "execution_count": null,
   "metadata": {
    "collapsed": false
   },
   "outputs": [],
   "source": [
    "clean_x <- cbind(clean_x, late$x[, late$gene.names == 'en'][, 2])\n",
    "colnames(clean_x)[dim(clean_x)[2]] <- 'en'\n",
    "\n",
    "plotImg(clean_x[, colnames(clean_x) == 'en'], late$template, FALSE)    "
   ]
  },
  {
   "cell_type": "code",
   "execution_count": null,
   "metadata": {
    "collapsed": false
   },
   "outputs": [],
   "source": [
    "foo <- late$x[, late$gene.names == 'esg']\n",
    "clean_x <- cbind(clean_x, apply(foo, 1, max))\n",
    "\n",
    "colnames(clean_x)[dim(clean_x)[2]] <- 'esg'\n",
    "\n",
    "plotImg(clean_x[, colnames(clean_x) == 'esg'], late$template, FALSE)    "
   ]
  },
  {
   "cell_type": "code",
   "execution_count": null,
   "metadata": {
    "collapsed": false
   },
   "outputs": [],
   "source": [
    "clean_x <- cbind(clean_x, late$x[, late$gene.names == 'ImpE2'][, c(1,2)])"
   ]
  },
  {
   "cell_type": "code",
   "execution_count": null,
   "metadata": {
    "collapsed": false
   },
   "outputs": [],
   "source": [
    "clean_x <- cbind(clean_x, late$x[, late$gene.names == 'inx2'][, c(1,2)])"
   ]
  },
  {
   "cell_type": "code",
   "execution_count": null,
   "metadata": {
    "collapsed": true
   },
   "outputs": [],
   "source": [
    "clean_x <- cbind(clean_x, late$x[, late$gene.names == 'kni'][, 1])\n",
    "colnames(clean_x)[dim(clean_x)[2]] <- 'kni'"
   ]
  },
  {
   "cell_type": "code",
   "execution_count": null,
   "metadata": {
    "collapsed": false
   },
   "outputs": [],
   "source": [
    "clean_x <- cbind(clean_x, late$x[, late$gene.names == 'Lac'][, 2])\n",
    "colnames(clean_x)[dim(clean_x)[2]] <- 'Lac'"
   ]
  },
  {
   "cell_type": "code",
   "execution_count": null,
   "metadata": {
    "collapsed": false
   },
   "outputs": [],
   "source": [
    "foo <- late$x[, late$gene.names == 'Mef2']\n",
    "clean_x <- cbind(clean_x, apply(foo, 1, max))\n",
    "\n",
    "colnames(clean_x)[dim(clean_x)[2]] <- 'Mef2'\n",
    "\n",
    "plotImg(clean_x[, colnames(clean_x) == 'Mef2'], late$template, FALSE)    "
   ]
  },
  {
   "cell_type": "code",
   "execution_count": null,
   "metadata": {
    "collapsed": false
   },
   "outputs": [],
   "source": [
    "clean_x <- cbind(clean_x, late$x[, late$gene.names == 'Mes2'][, 2])\n",
    "colnames(clean_x)[dim(clean_x)[2]] <- 'Mes2'\n",
    "\n",
    "plotImg(clean_x[, colnames(clean_x) == 'Mes2'], late$template, FALSE)    "
   ]
  },
  {
   "cell_type": "code",
   "execution_count": null,
   "metadata": {
    "collapsed": true
   },
   "outputs": [],
   "source": [
    "clean_x <- cbind(clean_x, late$x[, late$gene.names == 'nerfin-1'])\n",
    "clean_x <- cbind(clean_x, late$x[, late$gene.names == 'Oscillin'][, c(1,2)])\n",
    "clean_x <- cbind(clean_x, late$x[, late$gene.names == 'Pros54'])\n",
    "clean_x <- cbind(clean_x, late$x[, late$gene.names == 'slp1'])\n",
    "clean_x <- cbind(clean_x, late$x[, late$gene.names == 'Sulf1'][, c(1, 3)])\n",
    "clean_x <- cbind(clean_x, late$x[, late$gene.names == 'su(r)'][, c(1, 3)])"
   ]
  },
  {
   "cell_type": "code",
   "execution_count": null,
   "metadata": {
    "collapsed": false
   },
   "outputs": [],
   "source": [
    "foo <- late$x[, late$gene.names == 'btn']\n",
    "clean_x <- cbind(clean_x, apply(foo, 1, max))\n",
    "\n",
    "colnames(clean_x)[dim(clean_x)[2]] <- 'btn'\n",
    "\n",
    "plotImg(clean_x[, colnames(clean_x) == 'btn'], late$template, FALSE)    "
   ]
  },
  {
   "cell_type": "code",
   "execution_count": null,
   "metadata": {
    "collapsed": true
   },
   "outputs": [],
   "source": [
    "clean_x <- cbind(clean_x, late$x[, late$gene.names == 'CG4854'][, c(1, 4)])"
   ]
  },
  {
   "cell_type": "code",
   "execution_count": null,
   "metadata": {
    "collapsed": false
   },
   "outputs": [],
   "source": [
    "# one set with two replicates\n",
    "foo <- late$x[, late$gene.names == 'eya'][, c(1, 3)]\n",
    "colnames(foo) <- c('eya_1', 'eya_1')\n",
    "\n",
    "# another set with two replicates\n",
    "foo2 <- late$x[, late$gene.names == 'eya'][, c(2, 4)]\n",
    "colnames(foo2) <- c('eya_2', 'eya_2')\n",
    "\n",
    "clean_x <- cbind(clean_x, foo, foo2)"
   ]
  },
  {
   "cell_type": "code",
   "execution_count": null,
   "metadata": {
    "collapsed": true
   },
   "outputs": [],
   "source": [
    "foo <- late$x[, late$gene.names == 'prd'][, c(1,2,3)]\n",
    "colnames(foo) <- c('prd_1', 'prd_2', 'prd_3')\n",
    "clean_x <- cbind(clean_x, foo)"
   ]
  },
  {
   "cell_type": "code",
   "execution_count": null,
   "metadata": {
    "collapsed": false
   },
   "outputs": [],
   "source": [
    "foo <- late$x[, late$gene.names == 'srp']\n",
    "colnames(foo) <- c('srp_1', 'srp_2', 'srp_2', 'srp_2')\n",
    "\n",
    "clean_x <- cbind(clean_x, foo)"
   ]
  },
  {
   "cell_type": "code",
   "execution_count": null,
   "metadata": {
    "collapsed": false
   },
   "outputs": [],
   "source": [
    "foo <- cbind(apply(late$x[, late$gene.names == 'twi'][, c(1, 3)], 1, max), \n",
    "             late$x[, late$gene.names == 'twi'][, 2])\n",
    "\n",
    "colnames(foo) <- c('twi_1', 'twi_2')\n",
    "\n",
    "clean_x <- cbind(clean_x, foo)\n",
    "\n",
    "plotImg(clean_x[, colnames(clean_x) == 'twi_1'], late$template, FALSE)    "
   ]
  },
  {
   "cell_type": "code",
   "execution_count": null,
   "metadata": {
    "collapsed": false
   },
   "outputs": [],
   "source": [
    "clean_x <- cbind(clean_x, late$x[, late$gene.names == 'HLHm5'][, 2])\n",
    "colnames(clean_x)[dim(clean_x)[2]] <- 'HLHm5'\n",
    "\n",
    "plotImg(clean_x[, colnames(clean_x) == 'HLHm5'], late$template, FALSE)    "
   ]
  },
  {
   "cell_type": "code",
   "execution_count": null,
   "metadata": {
    "collapsed": false
   },
   "outputs": [],
   "source": [
    "foo <- late$x[, late$gene.names == 'ind']\n",
    "clean_x <- cbind(clean_x, apply(foo, 1, max))\n",
    "\n",
    "colnames(clean_x)[dim(clean_x)[2]] <- 'ind'\n",
    "\n",
    "plotImg(clean_x[, colnames(clean_x) == 'ind'], late$template, FALSE)    "
   ]
  },
  {
   "cell_type": "code",
   "execution_count": null,
   "metadata": {
    "collapsed": true
   },
   "outputs": [],
   "source": [
    "foo <- late$x[, late$gene.names == 'otp']\n",
    "colnames(foo) <- c('otp_1', 'otp_2', 'otp_3', 'otp_4', 'otp_5')\n",
    "clean_x <- cbind(clean_x, foo)"
   ]
  },
  {
   "cell_type": "code",
   "execution_count": null,
   "metadata": {
    "collapsed": false
   },
   "outputs": [],
   "source": [
    "foo <- late$x[, late$gene.names == 'rib']\n",
    "clean_x <- cbind(clean_x, apply(foo[, c(1, 2, 5)], 1, max))\n",
    "\n",
    "colnames(clean_x)[dim(clean_x)[2]] <- 'rib'\n",
    "\n",
    "plotImg(clean_x[, colnames(clean_x) == 'rib'], late$template, FALSE)    "
   ]
  },
  {
   "cell_type": "code",
   "execution_count": null,
   "metadata": {
    "collapsed": true
   },
   "outputs": [],
   "source": [
    "foo <- late$x[, late$gene.names == 'term']\n",
    "colnames(foo) <- c('term_1', 'term_1', 'term_2', 'term_3', 'term_4')\n",
    "clean_x <- cbind(clean_x, foo)"
   ]
  },
  {
   "cell_type": "code",
   "execution_count": null,
   "metadata": {
    "collapsed": true
   },
   "outputs": [],
   "source": [
    "foo <- late$x[, late$gene.names == 'Dr']\n",
    "\n",
    "foo1 <- apply(foo[, c(2, 4)], 1, max)\n",
    "foo2 <- apply(foo[, c(3, 5)], 1, max)\n",
    "foo3 <- foo[, c(1, 6)]\n",
    "\n",
    "foo4 <- cbind(foo1, foo2, foo3)\n",
    "\n",
    "colnames(foo4) <- c('Dr_1', 'Dr_2', 'Dr_3', 'Dr_3')\n",
    "clean_x <- cbind(clean_x, foo4)"
   ]
  },
  {
   "cell_type": "code",
   "execution_count": null,
   "metadata": {
    "collapsed": false
   },
   "outputs": [],
   "source": [
    "plotImg(clean_x[, colnames(clean_x) == 'Dr_1'], late$template, FALSE)    "
   ]
  },
  {
   "cell_type": "code",
   "execution_count": null,
   "metadata": {
    "collapsed": false
   },
   "outputs": [],
   "source": [
    "plotImg(clean_x[, colnames(clean_x) == 'Dr_2'], late$template, FALSE)    "
   ]
  },
  {
   "cell_type": "code",
   "execution_count": null,
   "metadata": {
    "collapsed": false
   },
   "outputs": [],
   "source": [
    "dim(clean_x)"
   ]
  },
  {
   "cell_type": "code",
   "execution_count": null,
   "metadata": {
    "collapsed": false
   },
   "outputs": [],
   "source": [
    "dim(late$x)"
   ]
  },
  {
   "cell_type": "code",
   "execution_count": null,
   "metadata": {
    "collapsed": false
   },
   "outputs": [],
   "source": [
    "write.csv(clean_x, file = '../data/clean_x.csv')"
   ]
  },
  {
   "cell_type": "code",
   "execution_count": null,
   "metadata": {
    "collapsed": true
   },
   "outputs": [],
   "source": []
  }
 ],
 "metadata": {
  "kernelspec": {
   "display_name": "R",
   "language": "R",
   "name": "ir"
  },
  "language_info": {
   "codemirror_mode": "r",
   "file_extension": ".r",
   "mimetype": "text/x-r-source",
   "name": "R",
   "pygments_lexer": "r",
   "version": "3.4.4"
  }
 },
 "nbformat": 4,
 "nbformat_minor": 2
}
