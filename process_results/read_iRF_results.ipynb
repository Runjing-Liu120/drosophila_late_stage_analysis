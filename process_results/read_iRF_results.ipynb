{
 "cells": [
  {
   "cell_type": "code",
   "execution_count": 31,
   "metadata": {
    "collapsed": false
   },
   "outputs": [],
   "source": [
    "library(tidyverse)\n",
    "\n",
    "source('../utils/plottingUtilities.R')"
   ]
  },
  {
   "cell_type": "code",
   "execution_count": 2,
   "metadata": {
    "collapsed": true
   },
   "outputs": [],
   "source": [
    "# original images \n",
    "x <- read.csv('../data/clean_x.csv')[, -1]"
   ]
  },
  {
   "cell_type": "code",
   "execution_count": 32,
   "metadata": {
    "collapsed": false
   },
   "outputs": [],
   "source": [
    "load('../scripts/irf_fits/irfSpatialFit_optix_PP7.Rdata')"
   ]
  },
  {
   "cell_type": "code",
   "execution_count": 33,
   "metadata": {
    "collapsed": true
   },
   "outputs": [],
   "source": [
    "load('../data/lateData.Rdata')"
   ]
  },
  {
   "cell_type": "code",
   "execution_count": 34,
   "metadata": {
    "collapsed": true
   },
   "outputs": [],
   "source": [
    "actual_names <- colnames(x.late)"
   ]
  },
  {
   "cell_type": "code",
   "execution_count": 35,
   "metadata": {
    "collapsed": true
   },
   "outputs": [],
   "source": [
    "colnames(x.late) <- as.character(1:dim(x.late)[2])"
   ]
  },
  {
   "cell_type": "code",
   "execution_count": 36,
   "metadata": {
    "collapsed": false
   },
   "outputs": [
    {
     "data": {
      "text/html": [
       "<ol class=list-inline>\n",
       "\t<li>'actual_names'</li>\n",
       "\t<li>'fit'</li>\n",
       "\t<li>'gene'</li>\n",
       "\t<li>'generateImage'</li>\n",
       "\t<li>'getNodeImages'</li>\n",
       "\t<li>'getNodeLabel'</li>\n",
       "\t<li>'getNodePosition'</li>\n",
       "\t<li>'i'</li>\n",
       "\t<li>'img2Color'</li>\n",
       "\t<li>'indx'</li>\n",
       "\t<li>'interaction1'</li>\n",
       "\t<li>'interaction2'</li>\n",
       "\t<li>'interactions'</li>\n",
       "\t<li>'late'</li>\n",
       "\t<li>'mapLate2Early'</li>\n",
       "\t<li>'multiplot'</li>\n",
       "\t<li>'n_genes'</li>\n",
       "\t<li>'overlayImage'</li>\n",
       "\t<li>'overlayImages'</li>\n",
       "\t<li>'p'</li>\n",
       "\t<li>'plot_all_PPs'</li>\n",
       "\t<li>'plotGroupImg'</li>\n",
       "\t<li>'plotImg'</li>\n",
       "\t<li>'plotPP'</li>\n",
       "\t<li>'shiftHoriz'</li>\n",
       "\t<li>'shiftImg'</li>\n",
       "\t<li>'shiftVert'</li>\n",
       "\t<li>'test.id'</li>\n",
       "\t<li>'tf'</li>\n",
       "\t<li>'train.id'</li>\n",
       "\t<li>'which_int'</li>\n",
       "\t<li>'x'</li>\n",
       "\t<li>'x.late'</li>\n",
       "\t<li>'y.late'</li>\n",
       "</ol>\n"
      ],
      "text/latex": [
       "\\begin{enumerate*}\n",
       "\\item 'actual\\_names'\n",
       "\\item 'fit'\n",
       "\\item 'gene'\n",
       "\\item 'generateImage'\n",
       "\\item 'getNodeImages'\n",
       "\\item 'getNodeLabel'\n",
       "\\item 'getNodePosition'\n",
       "\\item 'i'\n",
       "\\item 'img2Color'\n",
       "\\item 'indx'\n",
       "\\item 'interaction1'\n",
       "\\item 'interaction2'\n",
       "\\item 'interactions'\n",
       "\\item 'late'\n",
       "\\item 'mapLate2Early'\n",
       "\\item 'multiplot'\n",
       "\\item 'n\\_genes'\n",
       "\\item 'overlayImage'\n",
       "\\item 'overlayImages'\n",
       "\\item 'p'\n",
       "\\item 'plot\\_all\\_PPs'\n",
       "\\item 'plotGroupImg'\n",
       "\\item 'plotImg'\n",
       "\\item 'plotPP'\n",
       "\\item 'shiftHoriz'\n",
       "\\item 'shiftImg'\n",
       "\\item 'shiftVert'\n",
       "\\item 'test.id'\n",
       "\\item 'tf'\n",
       "\\item 'train.id'\n",
       "\\item 'which\\_int'\n",
       "\\item 'x'\n",
       "\\item 'x.late'\n",
       "\\item 'y.late'\n",
       "\\end{enumerate*}\n"
      ],
      "text/markdown": [
       "1. 'actual_names'\n",
       "2. 'fit'\n",
       "3. 'gene'\n",
       "4. 'generateImage'\n",
       "5. 'getNodeImages'\n",
       "6. 'getNodeLabel'\n",
       "7. 'getNodePosition'\n",
       "8. 'i'\n",
       "9. 'img2Color'\n",
       "10. 'indx'\n",
       "11. 'interaction1'\n",
       "12. 'interaction2'\n",
       "13. 'interactions'\n",
       "14. 'late'\n",
       "15. 'mapLate2Early'\n",
       "16. 'multiplot'\n",
       "17. 'n_genes'\n",
       "18. 'overlayImage'\n",
       "19. 'overlayImages'\n",
       "20. 'p'\n",
       "21. 'plot_all_PPs'\n",
       "22. 'plotGroupImg'\n",
       "23. 'plotImg'\n",
       "24. 'plotPP'\n",
       "25. 'shiftHoriz'\n",
       "26. 'shiftImg'\n",
       "27. 'shiftVert'\n",
       "28. 'test.id'\n",
       "29. 'tf'\n",
       "30. 'train.id'\n",
       "31. 'which_int'\n",
       "32. 'x'\n",
       "33. 'x.late'\n",
       "34. 'y.late'\n",
       "\n",
       "\n"
      ],
      "text/plain": [
       " [1] \"actual_names\"    \"fit\"             \"gene\"            \"generateImage\"  \n",
       " [5] \"getNodeImages\"   \"getNodeLabel\"    \"getNodePosition\" \"i\"              \n",
       " [9] \"img2Color\"       \"indx\"            \"interaction1\"    \"interaction2\"   \n",
       "[13] \"interactions\"    \"late\"            \"mapLate2Early\"   \"multiplot\"      \n",
       "[17] \"n_genes\"         \"overlayImage\"    \"overlayImages\"   \"p\"              \n",
       "[21] \"plot_all_PPs\"    \"plotGroupImg\"    \"plotImg\"         \"plotPP\"         \n",
       "[25] \"shiftHoriz\"      \"shiftImg\"        \"shiftVert\"       \"test.id\"        \n",
       "[29] \"tf\"              \"train.id\"        \"which_int\"       \"x\"              \n",
       "[33] \"x.late\"          \"y.late\"         "
      ]
     },
     "metadata": {},
     "output_type": "display_data"
    }
   ],
   "source": [
    "ls()"
   ]
  },
  {
   "cell_type": "code",
   "execution_count": 37,
   "metadata": {
    "collapsed": false
   },
   "outputs": [
    {
     "data": {
      "text/html": [
       "<table>\n",
       "<thead><tr><th scope=col>int</th><th scope=col>sta.diff</th><th scope=col>diff</th><th scope=col>sta.prev</th><th scope=col>prev1</th><th scope=col>prev0</th><th scope=col>sta.prec</th><th scope=col>prec</th></tr></thead>\n",
       "<tbody>\n",
       "\t<tr><td>449-_570+   </td><td>0.99        </td><td> 0.130877252</td><td>0.98        </td><td>0.1311618139</td><td>2.845622e-04</td><td>  NA        </td><td>      NaN   </td></tr>\n",
       "\t<tr><td>570+_584-   </td><td>0.98        </td><td> 0.105370421</td><td>0.92        </td><td>0.1056545407</td><td>2.841192e-04</td><td>  NA        </td><td>      NaN   </td></tr>\n",
       "\t<tr><td>185+_570-   </td><td>1.00        </td><td> 0.066462267</td><td>0.99        </td><td>0.0700637722</td><td>3.601505e-03</td><td>0.10        </td><td>0.7652242   </td></tr>\n",
       "\t<tr><td>570+_7-     </td><td>0.99        </td><td> 0.044129658</td><td>0.91        </td><td>0.0441829629</td><td>5.330450e-05</td><td>0.65        </td><td>0.9375903   </td></tr>\n",
       "\t<tr><td>306+_570+   </td><td>0.97        </td><td> 0.043061015</td><td>0.40        </td><td>0.0432141788</td><td>1.531637e-04</td><td>  NA        </td><td>      NaN   </td></tr>\n",
       "\t<tr><td>570+_590+   </td><td>0.99        </td><td> 0.042580741</td><td>0.64        </td><td>0.0426300116</td><td>4.927113e-05</td><td>0.88        </td><td>0.9662025   </td></tr>\n",
       "\t<tr><td>18+_570-    </td><td>1.00        </td><td> 0.035909294</td><td>1.00        </td><td>0.0365659180</td><td>6.566241e-04</td><td>0.00        </td><td>0.5455797   </td></tr>\n",
       "\t<tr><td>282-_570+   </td><td>1.00        </td><td> 0.027177063</td><td>0.95        </td><td>0.0272331844</td><td>5.612112e-05</td><td>0.91        </td><td>0.9727284   </td></tr>\n",
       "\t<tr><td>570+_96-    </td><td>0.99        </td><td> 0.023818551</td><td>0.98        </td><td>0.0238847110</td><td>6.616001e-05</td><td>  NA        </td><td>      NaN   </td></tr>\n",
       "\t<tr><td>352-_570+   </td><td>0.99        </td><td> 0.022132748</td><td>0.97        </td><td>0.0222054695</td><td>7.272129e-05</td><td>0.90        </td><td>0.9598222   </td></tr>\n",
       "\t<tr><td>570+_79-    </td><td>0.96        </td><td> 0.021895855</td><td>0.21        </td><td>0.0219611110</td><td>6.525603e-05</td><td>  NA        </td><td>      NaN   </td></tr>\n",
       "\t<tr><td>393-_570+   </td><td>1.00        </td><td> 0.021808433</td><td>0.95        </td><td>0.0218491200</td><td>4.068741e-05</td><td>0.85        </td><td>0.9710624   </td></tr>\n",
       "\t<tr><td>570-_66+    </td><td>1.00        </td><td> 0.020787256</td><td>0.97        </td><td>0.0208594311</td><td>7.217509e-05</td><td>0.01        </td><td>0.6089759   </td></tr>\n",
       "\t<tr><td>175-_570+   </td><td>0.99        </td><td> 0.019721505</td><td>0.97        </td><td>0.0197588746</td><td>3.736930e-05</td><td>0.95        </td><td>0.9669934   </td></tr>\n",
       "\t<tr><td>322-_570-   </td><td>1.00        </td><td> 0.018583240</td><td>0.90        </td><td>0.0211716022</td><td>2.588363e-03</td><td>0.21        </td><td>0.7731071   </td></tr>\n",
       "\t<tr><td>178-_570+   </td><td>0.99        </td><td> 0.018265667</td><td>0.62        </td><td>0.0183006945</td><td>3.502751e-05</td><td>0.88        </td><td>0.9583500   </td></tr>\n",
       "\t<tr><td>249-_570+   </td><td>1.00        </td><td> 0.013833395</td><td>0.97        </td><td>0.0138581197</td><td>2.472465e-05</td><td>0.87        </td><td>0.9751729   </td></tr>\n",
       "\t<tr><td>119-_570+   </td><td>0.97        </td><td> 0.013106989</td><td>0.96        </td><td>0.0131335314</td><td>2.654276e-05</td><td>  NA        </td><td>      NaN   </td></tr>\n",
       "\t<tr><td>556-_570+   </td><td>0.97        </td><td> 0.012680703</td><td>0.57        </td><td>0.0127122485</td><td>3.154604e-05</td><td>  NA        </td><td>      NaN   </td></tr>\n",
       "\t<tr><td>127-_570+   </td><td>0.95        </td><td> 0.012410554</td><td>0.86        </td><td>0.0124421363</td><td>3.158268e-05</td><td>0.75        </td><td>0.9156405   </td></tr>\n",
       "\t<tr><td>210-_570+   </td><td>0.98        </td><td> 0.011664221</td><td>0.79        </td><td>0.0116911895</td><td>2.696891e-05</td><td>0.94        </td><td>0.9593840   </td></tr>\n",
       "\t<tr><td>570+_65-    </td><td>0.93        </td><td> 0.009469904</td><td>0.92        </td><td>0.0095106906</td><td>4.078655e-05</td><td>  NA        </td><td>      NaN   </td></tr>\n",
       "\t<tr><td>510-_570+   </td><td>0.85        </td><td> 0.009327989</td><td>0.42        </td><td>0.0094327342</td><td>1.047455e-04</td><td>  NA        </td><td>      NaN   </td></tr>\n",
       "\t<tr><td>570-_579-   </td><td>1.00        </td><td> 0.008070509</td><td>0.71        </td><td>0.0083744709</td><td>3.039615e-04</td><td>0.01        </td><td>0.4235691   </td></tr>\n",
       "\t<tr><td>28+_570+    </td><td>0.95        </td><td> 0.007592083</td><td>0.28        </td><td>0.0076188681</td><td>2.678502e-05</td><td>  NA        </td><td>      NaN   </td></tr>\n",
       "\t<tr><td>188-_570-   </td><td>1.00        </td><td> 0.003658226</td><td>0.49        </td><td>0.0041418430</td><td>4.836171e-04</td><td>0.03        </td><td>0.6890027   </td></tr>\n",
       "\t<tr><td>178-_306+   </td><td>0.71        </td><td> 0.001255920</td><td>0.27        </td><td>0.0012578463</td><td>1.926409e-06</td><td>0.35        </td><td>0.6132666   </td></tr>\n",
       "\t<tr><td>570-_98+    </td><td>0.20        </td><td>-0.018339838</td><td>0.93        </td><td>0.0007538429</td><td>1.909368e-02</td><td>  NA        </td><td>      NaN   </td></tr>\n",
       "\t<tr><td>527-_570-   </td><td>0.33        </td><td>-0.122007125</td><td>0.98        </td><td>0.0100063342</td><td>1.320135e-01</td><td>0.02        </td><td>0.6968647   </td></tr>\n",
       "\t<tr><td>425+_570-   </td><td>0.36        </td><td>-0.127496319</td><td>0.99        </td><td>0.0153270621</td><td>1.428234e-01</td><td>0.15        </td><td>0.6818583   </td></tr>\n",
       "\t<tr><td>11-_570-    </td><td>0.01        </td><td>-0.169902586</td><td>1.00        </td><td>0.0198132533</td><td>1.897158e-01</td><td>0.00        </td><td>0.6300796   </td></tr>\n",
       "\t<tr><td>570-_79-    </td><td>0.14        </td><td>-0.201827396</td><td>0.79        </td><td>0.0265306238</td><td>2.283580e-01</td><td>0.02        </td><td>0.6405494   </td></tr>\n",
       "\t<tr><td>570-_579+   </td><td>0.07        </td><td>-0.218291579</td><td>0.99        </td><td>0.0251216543</td><td>2.434132e-01</td><td>0.17        </td><td>0.6423895   </td></tr>\n",
       "\t<tr><td>570-_66-    </td><td>0.00        </td><td>-0.240637318</td><td>0.95        </td><td>0.0391613982</td><td>2.797987e-01</td><td>0.00        </td><td>0.6563572   </td></tr>\n",
       "\t<tr><td>499-_570-   </td><td>0.00        </td><td>-0.301270697</td><td>1.00        </td><td>0.0321855325</td><td>3.334562e-01</td><td>0.02        </td><td>0.6466467   </td></tr>\n",
       "\t<tr><td>18-_570-    </td><td>0.00        </td><td>-0.339337829</td><td>0.98        </td><td>0.0547698483</td><td>3.941077e-01</td><td>0.11        </td><td>0.6560597   </td></tr>\n",
       "\t<tr><td>185-_570-   </td><td>0.00        </td><td>-0.411957054</td><td>1.00        </td><td>0.0722278758</td><td>4.841849e-01</td><td>0.00        </td><td>0.6226093   </td></tr>\n",
       "\t<tr><td>306-_570-   </td><td>0.03        </td><td>-0.412489770</td><td>0.93        </td><td>0.0427474334</td><td>4.552372e-01</td><td>  NA        </td><td>      NaN   </td></tr>\n",
       "</tbody>\n",
       "</table>\n"
      ],
      "text/latex": [
       "\\begin{tabular}{r|llllllll}\n",
       " int & sta.diff & diff & sta.prev & prev1 & prev0 & sta.prec & prec\\\\\n",
       "\\hline\n",
       "\t 449-\\_570+  & 0.99         &  0.130877252 & 0.98         & 0.1311618139 & 2.845622e-04 &   NA         &       NaN   \\\\\n",
       "\t 570+\\_584-  & 0.98         &  0.105370421 & 0.92         & 0.1056545407 & 2.841192e-04 &   NA         &       NaN   \\\\\n",
       "\t 185+\\_570-  & 1.00         &  0.066462267 & 0.99         & 0.0700637722 & 3.601505e-03 & 0.10         & 0.7652242   \\\\\n",
       "\t 570+\\_7-    & 0.99         &  0.044129658 & 0.91         & 0.0441829629 & 5.330450e-05 & 0.65         & 0.9375903   \\\\\n",
       "\t 306+\\_570+  & 0.97         &  0.043061015 & 0.40         & 0.0432141788 & 1.531637e-04 &   NA         &       NaN   \\\\\n",
       "\t 570+\\_590+  & 0.99         &  0.042580741 & 0.64         & 0.0426300116 & 4.927113e-05 & 0.88         & 0.9662025   \\\\\n",
       "\t 18+\\_570-   & 1.00         &  0.035909294 & 1.00         & 0.0365659180 & 6.566241e-04 & 0.00         & 0.5455797   \\\\\n",
       "\t 282-\\_570+  & 1.00         &  0.027177063 & 0.95         & 0.0272331844 & 5.612112e-05 & 0.91         & 0.9727284   \\\\\n",
       "\t 570+\\_96-   & 0.99         &  0.023818551 & 0.98         & 0.0238847110 & 6.616001e-05 &   NA         &       NaN   \\\\\n",
       "\t 352-\\_570+  & 0.99         &  0.022132748 & 0.97         & 0.0222054695 & 7.272129e-05 & 0.90         & 0.9598222   \\\\\n",
       "\t 570+\\_79-   & 0.96         &  0.021895855 & 0.21         & 0.0219611110 & 6.525603e-05 &   NA         &       NaN   \\\\\n",
       "\t 393-\\_570+  & 1.00         &  0.021808433 & 0.95         & 0.0218491200 & 4.068741e-05 & 0.85         & 0.9710624   \\\\\n",
       "\t 570-\\_66+   & 1.00         &  0.020787256 & 0.97         & 0.0208594311 & 7.217509e-05 & 0.01         & 0.6089759   \\\\\n",
       "\t 175-\\_570+  & 0.99         &  0.019721505 & 0.97         & 0.0197588746 & 3.736930e-05 & 0.95         & 0.9669934   \\\\\n",
       "\t 322-\\_570-  & 1.00         &  0.018583240 & 0.90         & 0.0211716022 & 2.588363e-03 & 0.21         & 0.7731071   \\\\\n",
       "\t 178-\\_570+  & 0.99         &  0.018265667 & 0.62         & 0.0183006945 & 3.502751e-05 & 0.88         & 0.9583500   \\\\\n",
       "\t 249-\\_570+  & 1.00         &  0.013833395 & 0.97         & 0.0138581197 & 2.472465e-05 & 0.87         & 0.9751729   \\\\\n",
       "\t 119-\\_570+  & 0.97         &  0.013106989 & 0.96         & 0.0131335314 & 2.654276e-05 &   NA         &       NaN   \\\\\n",
       "\t 556-\\_570+  & 0.97         &  0.012680703 & 0.57         & 0.0127122485 & 3.154604e-05 &   NA         &       NaN   \\\\\n",
       "\t 127-\\_570+  & 0.95         &  0.012410554 & 0.86         & 0.0124421363 & 3.158268e-05 & 0.75         & 0.9156405   \\\\\n",
       "\t 210-\\_570+  & 0.98         &  0.011664221 & 0.79         & 0.0116911895 & 2.696891e-05 & 0.94         & 0.9593840   \\\\\n",
       "\t 570+\\_65-   & 0.93         &  0.009469904 & 0.92         & 0.0095106906 & 4.078655e-05 &   NA         &       NaN   \\\\\n",
       "\t 510-\\_570+  & 0.85         &  0.009327989 & 0.42         & 0.0094327342 & 1.047455e-04 &   NA         &       NaN   \\\\\n",
       "\t 570-\\_579-  & 1.00         &  0.008070509 & 0.71         & 0.0083744709 & 3.039615e-04 & 0.01         & 0.4235691   \\\\\n",
       "\t 28+\\_570+   & 0.95         &  0.007592083 & 0.28         & 0.0076188681 & 2.678502e-05 &   NA         &       NaN   \\\\\n",
       "\t 188-\\_570-  & 1.00         &  0.003658226 & 0.49         & 0.0041418430 & 4.836171e-04 & 0.03         & 0.6890027   \\\\\n",
       "\t 178-\\_306+  & 0.71         &  0.001255920 & 0.27         & 0.0012578463 & 1.926409e-06 & 0.35         & 0.6132666   \\\\\n",
       "\t 570-\\_98+   & 0.20         & -0.018339838 & 0.93         & 0.0007538429 & 1.909368e-02 &   NA         &       NaN   \\\\\n",
       "\t 527-\\_570-  & 0.33         & -0.122007125 & 0.98         & 0.0100063342 & 1.320135e-01 & 0.02         & 0.6968647   \\\\\n",
       "\t 425+\\_570-  & 0.36         & -0.127496319 & 0.99         & 0.0153270621 & 1.428234e-01 & 0.15         & 0.6818583   \\\\\n",
       "\t 11-\\_570-   & 0.01         & -0.169902586 & 1.00         & 0.0198132533 & 1.897158e-01 & 0.00         & 0.6300796   \\\\\n",
       "\t 570-\\_79-   & 0.14         & -0.201827396 & 0.79         & 0.0265306238 & 2.283580e-01 & 0.02         & 0.6405494   \\\\\n",
       "\t 570-\\_579+  & 0.07         & -0.218291579 & 0.99         & 0.0251216543 & 2.434132e-01 & 0.17         & 0.6423895   \\\\\n",
       "\t 570-\\_66-   & 0.00         & -0.240637318 & 0.95         & 0.0391613982 & 2.797987e-01 & 0.00         & 0.6563572   \\\\\n",
       "\t 499-\\_570-  & 0.00         & -0.301270697 & 1.00         & 0.0321855325 & 3.334562e-01 & 0.02         & 0.6466467   \\\\\n",
       "\t 18-\\_570-   & 0.00         & -0.339337829 & 0.98         & 0.0547698483 & 3.941077e-01 & 0.11         & 0.6560597   \\\\\n",
       "\t 185-\\_570-  & 0.00         & -0.411957054 & 1.00         & 0.0722278758 & 4.841849e-01 & 0.00         & 0.6226093   \\\\\n",
       "\t 306-\\_570-  & 0.03         & -0.412489770 & 0.93         & 0.0427474334 & 4.552372e-01 &   NA         &       NaN   \\\\\n",
       "\\end{tabular}\n"
      ],
      "text/markdown": [
       "\n",
       "int | sta.diff | diff | sta.prev | prev1 | prev0 | sta.prec | prec | \n",
       "|---|---|---|---|---|---|---|---|---|---|---|---|---|---|---|---|---|---|---|---|---|---|---|---|---|---|---|---|---|---|---|---|---|---|---|---|---|---|\n",
       "| 449-_570+    | 0.99         |  0.130877252 | 0.98         | 0.1311618139 | 2.845622e-04 |   NA         |       NaN    | \n",
       "| 570+_584-    | 0.98         |  0.105370421 | 0.92         | 0.1056545407 | 2.841192e-04 |   NA         |       NaN    | \n",
       "| 185+_570-    | 1.00         |  0.066462267 | 0.99         | 0.0700637722 | 3.601505e-03 | 0.10         | 0.7652242    | \n",
       "| 570+_7-      | 0.99         |  0.044129658 | 0.91         | 0.0441829629 | 5.330450e-05 | 0.65         | 0.9375903    | \n",
       "| 306+_570+    | 0.97         |  0.043061015 | 0.40         | 0.0432141788 | 1.531637e-04 |   NA         |       NaN    | \n",
       "| 570+_590+    | 0.99         |  0.042580741 | 0.64         | 0.0426300116 | 4.927113e-05 | 0.88         | 0.9662025    | \n",
       "| 18+_570-     | 1.00         |  0.035909294 | 1.00         | 0.0365659180 | 6.566241e-04 | 0.00         | 0.5455797    | \n",
       "| 282-_570+    | 1.00         |  0.027177063 | 0.95         | 0.0272331844 | 5.612112e-05 | 0.91         | 0.9727284    | \n",
       "| 570+_96-     | 0.99         |  0.023818551 | 0.98         | 0.0238847110 | 6.616001e-05 |   NA         |       NaN    | \n",
       "| 352-_570+    | 0.99         |  0.022132748 | 0.97         | 0.0222054695 | 7.272129e-05 | 0.90         | 0.9598222    | \n",
       "| 570+_79-     | 0.96         |  0.021895855 | 0.21         | 0.0219611110 | 6.525603e-05 |   NA         |       NaN    | \n",
       "| 393-_570+    | 1.00         |  0.021808433 | 0.95         | 0.0218491200 | 4.068741e-05 | 0.85         | 0.9710624    | \n",
       "| 570-_66+     | 1.00         |  0.020787256 | 0.97         | 0.0208594311 | 7.217509e-05 | 0.01         | 0.6089759    | \n",
       "| 175-_570+    | 0.99         |  0.019721505 | 0.97         | 0.0197588746 | 3.736930e-05 | 0.95         | 0.9669934    | \n",
       "| 322-_570-    | 1.00         |  0.018583240 | 0.90         | 0.0211716022 | 2.588363e-03 | 0.21         | 0.7731071    | \n",
       "| 178-_570+    | 0.99         |  0.018265667 | 0.62         | 0.0183006945 | 3.502751e-05 | 0.88         | 0.9583500    | \n",
       "| 249-_570+    | 1.00         |  0.013833395 | 0.97         | 0.0138581197 | 2.472465e-05 | 0.87         | 0.9751729    | \n",
       "| 119-_570+    | 0.97         |  0.013106989 | 0.96         | 0.0131335314 | 2.654276e-05 |   NA         |       NaN    | \n",
       "| 556-_570+    | 0.97         |  0.012680703 | 0.57         | 0.0127122485 | 3.154604e-05 |   NA         |       NaN    | \n",
       "| 127-_570+    | 0.95         |  0.012410554 | 0.86         | 0.0124421363 | 3.158268e-05 | 0.75         | 0.9156405    | \n",
       "| 210-_570+    | 0.98         |  0.011664221 | 0.79         | 0.0116911895 | 2.696891e-05 | 0.94         | 0.9593840    | \n",
       "| 570+_65-     | 0.93         |  0.009469904 | 0.92         | 0.0095106906 | 4.078655e-05 |   NA         |       NaN    | \n",
       "| 510-_570+    | 0.85         |  0.009327989 | 0.42         | 0.0094327342 | 1.047455e-04 |   NA         |       NaN    | \n",
       "| 570-_579-    | 1.00         |  0.008070509 | 0.71         | 0.0083744709 | 3.039615e-04 | 0.01         | 0.4235691    | \n",
       "| 28+_570+     | 0.95         |  0.007592083 | 0.28         | 0.0076188681 | 2.678502e-05 |   NA         |       NaN    | \n",
       "| 188-_570-    | 1.00         |  0.003658226 | 0.49         | 0.0041418430 | 4.836171e-04 | 0.03         | 0.6890027    | \n",
       "| 178-_306+    | 0.71         |  0.001255920 | 0.27         | 0.0012578463 | 1.926409e-06 | 0.35         | 0.6132666    | \n",
       "| 570-_98+     | 0.20         | -0.018339838 | 0.93         | 0.0007538429 | 1.909368e-02 |   NA         |       NaN    | \n",
       "| 527-_570-    | 0.33         | -0.122007125 | 0.98         | 0.0100063342 | 1.320135e-01 | 0.02         | 0.6968647    | \n",
       "| 425+_570-    | 0.36         | -0.127496319 | 0.99         | 0.0153270621 | 1.428234e-01 | 0.15         | 0.6818583    | \n",
       "| 11-_570-     | 0.01         | -0.169902586 | 1.00         | 0.0198132533 | 1.897158e-01 | 0.00         | 0.6300796    | \n",
       "| 570-_79-     | 0.14         | -0.201827396 | 0.79         | 0.0265306238 | 2.283580e-01 | 0.02         | 0.6405494    | \n",
       "| 570-_579+    | 0.07         | -0.218291579 | 0.99         | 0.0251216543 | 2.434132e-01 | 0.17         | 0.6423895    | \n",
       "| 570-_66-     | 0.00         | -0.240637318 | 0.95         | 0.0391613982 | 2.797987e-01 | 0.00         | 0.6563572    | \n",
       "| 499-_570-    | 0.00         | -0.301270697 | 1.00         | 0.0321855325 | 3.334562e-01 | 0.02         | 0.6466467    | \n",
       "| 18-_570-     | 0.00         | -0.339337829 | 0.98         | 0.0547698483 | 3.941077e-01 | 0.11         | 0.6560597    | \n",
       "| 185-_570-    | 0.00         | -0.411957054 | 1.00         | 0.0722278758 | 4.841849e-01 | 0.00         | 0.6226093    | \n",
       "| 306-_570-    | 0.03         | -0.412489770 | 0.93         | 0.0427474334 | 4.552372e-01 |   NA         |       NaN    | \n",
       "\n",
       "\n"
      ],
      "text/plain": [
       "   int       sta.diff diff         sta.prev prev1        prev0        sta.prec\n",
       "1  449-_570+ 0.99      0.130877252 0.98     0.1311618139 2.845622e-04   NA    \n",
       "2  570+_584- 0.98      0.105370421 0.92     0.1056545407 2.841192e-04   NA    \n",
       "3  185+_570- 1.00      0.066462267 0.99     0.0700637722 3.601505e-03 0.10    \n",
       "4  570+_7-   0.99      0.044129658 0.91     0.0441829629 5.330450e-05 0.65    \n",
       "5  306+_570+ 0.97      0.043061015 0.40     0.0432141788 1.531637e-04   NA    \n",
       "6  570+_590+ 0.99      0.042580741 0.64     0.0426300116 4.927113e-05 0.88    \n",
       "7  18+_570-  1.00      0.035909294 1.00     0.0365659180 6.566241e-04 0.00    \n",
       "8  282-_570+ 1.00      0.027177063 0.95     0.0272331844 5.612112e-05 0.91    \n",
       "9  570+_96-  0.99      0.023818551 0.98     0.0238847110 6.616001e-05   NA    \n",
       "10 352-_570+ 0.99      0.022132748 0.97     0.0222054695 7.272129e-05 0.90    \n",
       "11 570+_79-  0.96      0.021895855 0.21     0.0219611110 6.525603e-05   NA    \n",
       "12 393-_570+ 1.00      0.021808433 0.95     0.0218491200 4.068741e-05 0.85    \n",
       "13 570-_66+  1.00      0.020787256 0.97     0.0208594311 7.217509e-05 0.01    \n",
       "14 175-_570+ 0.99      0.019721505 0.97     0.0197588746 3.736930e-05 0.95    \n",
       "15 322-_570- 1.00      0.018583240 0.90     0.0211716022 2.588363e-03 0.21    \n",
       "16 178-_570+ 0.99      0.018265667 0.62     0.0183006945 3.502751e-05 0.88    \n",
       "17 249-_570+ 1.00      0.013833395 0.97     0.0138581197 2.472465e-05 0.87    \n",
       "18 119-_570+ 0.97      0.013106989 0.96     0.0131335314 2.654276e-05   NA    \n",
       "19 556-_570+ 0.97      0.012680703 0.57     0.0127122485 3.154604e-05   NA    \n",
       "20 127-_570+ 0.95      0.012410554 0.86     0.0124421363 3.158268e-05 0.75    \n",
       "21 210-_570+ 0.98      0.011664221 0.79     0.0116911895 2.696891e-05 0.94    \n",
       "22 570+_65-  0.93      0.009469904 0.92     0.0095106906 4.078655e-05   NA    \n",
       "23 510-_570+ 0.85      0.009327989 0.42     0.0094327342 1.047455e-04   NA    \n",
       "24 570-_579- 1.00      0.008070509 0.71     0.0083744709 3.039615e-04 0.01    \n",
       "25 28+_570+  0.95      0.007592083 0.28     0.0076188681 2.678502e-05   NA    \n",
       "26 188-_570- 1.00      0.003658226 0.49     0.0041418430 4.836171e-04 0.03    \n",
       "27 178-_306+ 0.71      0.001255920 0.27     0.0012578463 1.926409e-06 0.35    \n",
       "28 570-_98+  0.20     -0.018339838 0.93     0.0007538429 1.909368e-02   NA    \n",
       "29 527-_570- 0.33     -0.122007125 0.98     0.0100063342 1.320135e-01 0.02    \n",
       "30 425+_570- 0.36     -0.127496319 0.99     0.0153270621 1.428234e-01 0.15    \n",
       "31 11-_570-  0.01     -0.169902586 1.00     0.0198132533 1.897158e-01 0.00    \n",
       "32 570-_79-  0.14     -0.201827396 0.79     0.0265306238 2.283580e-01 0.02    \n",
       "33 570-_579+ 0.07     -0.218291579 0.99     0.0251216543 2.434132e-01 0.17    \n",
       "34 570-_66-  0.00     -0.240637318 0.95     0.0391613982 2.797987e-01 0.00    \n",
       "35 499-_570- 0.00     -0.301270697 1.00     0.0321855325 3.334562e-01 0.02    \n",
       "36 18-_570-  0.00     -0.339337829 0.98     0.0547698483 3.941077e-01 0.11    \n",
       "37 185-_570- 0.00     -0.411957054 1.00     0.0722278758 4.841849e-01 0.00    \n",
       "38 306-_570- 0.03     -0.412489770 0.93     0.0427474334 4.552372e-01   NA    \n",
       "   prec     \n",
       "1        NaN\n",
       "2        NaN\n",
       "3  0.7652242\n",
       "4  0.9375903\n",
       "5        NaN\n",
       "6  0.9662025\n",
       "7  0.5455797\n",
       "8  0.9727284\n",
       "9        NaN\n",
       "10 0.9598222\n",
       "11       NaN\n",
       "12 0.9710624\n",
       "13 0.6089759\n",
       "14 0.9669934\n",
       "15 0.7731071\n",
       "16 0.9583500\n",
       "17 0.9751729\n",
       "18       NaN\n",
       "19       NaN\n",
       "20 0.9156405\n",
       "21 0.9593840\n",
       "22       NaN\n",
       "23       NaN\n",
       "24 0.4235691\n",
       "25       NaN\n",
       "26 0.6890027\n",
       "27 0.6132666\n",
       "28       NaN\n",
       "29 0.6968647\n",
       "30 0.6818583\n",
       "31 0.6300796\n",
       "32 0.6405494\n",
       "33 0.6423895\n",
       "34 0.6563572\n",
       "35 0.6466467\n",
       "36 0.6560597\n",
       "37 0.6226093\n",
       "38       NaN"
      ]
     },
     "metadata": {},
     "output_type": "display_data"
    }
   ],
   "source": [
    "fit$importance"
   ]
  },
  {
   "cell_type": "code",
   "execution_count": 38,
   "metadata": {
    "collapsed": false
   },
   "outputs": [],
   "source": [
    "which_int <- (fit$importance[, 'sta.prev'] > 0.5) & \n",
    "            (fit$importance[, 'sta.prec'] > 0.5) & \n",
    "            (fit$importance[, 'sta.diff'] > 0.5)\n"
   ]
  },
  {
   "cell_type": "code",
   "execution_count": 39,
   "metadata": {
    "collapsed": true
   },
   "outputs": [],
   "source": [
    "# interactions <- fit$importance[as.vector(which_int), 'int']\n",
    "interactions <- names(fit$interaction)"
   ]
  },
  {
   "cell_type": "code",
   "execution_count": 40,
   "metadata": {
    "collapsed": false
   },
   "outputs": [
    {
     "data": {
      "text/html": [
       "<ol class=list-inline>\n",
       "\t<li>'185+_570-'</li>\n",
       "\t<li>'185-_570-'</li>\n",
       "\t<li>'449-_570+'</li>\n",
       "\t<li>'570+_584-'</li>\n",
       "\t<li>'570+_7-'</li>\n",
       "\t<li>'18-_570-'</li>\n",
       "\t<li>'570+_96-'</li>\n",
       "\t<li>'282-_570+'</li>\n",
       "\t<li>'18+_570-'</li>\n",
       "\t<li>'352-_570+'</li>\n",
       "\t<li>'570+_590+'</li>\n",
       "\t<li>'570-_66-'</li>\n",
       "\t<li>'306+_570+'</li>\n",
       "\t<li>'306-_570-'</li>\n",
       "\t<li>'175-_570+'</li>\n",
       "\t<li>'393-_570+'</li>\n",
       "\t<li>'570-_66+'</li>\n",
       "\t<li>'499-_570-'</li>\n",
       "\t<li>'178-_570+'</li>\n",
       "\t<li>'570+_79-'</li>\n",
       "\t<li>'249-_570+'</li>\n",
       "\t<li>'570-_579+'</li>\n",
       "\t<li>'570-_79-'</li>\n",
       "\t<li>'556-_570+'</li>\n",
       "\t<li>'11-_570-'</li>\n",
       "\t<li>'210-_570+'</li>\n",
       "\t<li>'322-_570-'</li>\n",
       "\t<li>'119-_570+'</li>\n",
       "\t<li>'127-_570+'</li>\n",
       "\t<li>'425+_570-'</li>\n",
       "\t<li>'510-_570+'</li>\n",
       "\t<li>'28+_570+'</li>\n",
       "\t<li>'570+_65-'</li>\n",
       "\t<li>'527-_570-'</li>\n",
       "\t<li>'570-_579-'</li>\n",
       "\t<li>'188-_570-'</li>\n",
       "\t<li>'178-_306+'</li>\n",
       "</ol>\n"
      ],
      "text/latex": [
       "\\begin{enumerate*}\n",
       "\\item '185+\\_570-'\n",
       "\\item '185-\\_570-'\n",
       "\\item '449-\\_570+'\n",
       "\\item '570+\\_584-'\n",
       "\\item '570+\\_7-'\n",
       "\\item '18-\\_570-'\n",
       "\\item '570+\\_96-'\n",
       "\\item '282-\\_570+'\n",
       "\\item '18+\\_570-'\n",
       "\\item '352-\\_570+'\n",
       "\\item '570+\\_590+'\n",
       "\\item '570-\\_66-'\n",
       "\\item '306+\\_570+'\n",
       "\\item '306-\\_570-'\n",
       "\\item '175-\\_570+'\n",
       "\\item '393-\\_570+'\n",
       "\\item '570-\\_66+'\n",
       "\\item '499-\\_570-'\n",
       "\\item '178-\\_570+'\n",
       "\\item '570+\\_79-'\n",
       "\\item '249-\\_570+'\n",
       "\\item '570-\\_579+'\n",
       "\\item '570-\\_79-'\n",
       "\\item '556-\\_570+'\n",
       "\\item '11-\\_570-'\n",
       "\\item '210-\\_570+'\n",
       "\\item '322-\\_570-'\n",
       "\\item '119-\\_570+'\n",
       "\\item '127-\\_570+'\n",
       "\\item '425+\\_570-'\n",
       "\\item '510-\\_570+'\n",
       "\\item '28+\\_570+'\n",
       "\\item '570+\\_65-'\n",
       "\\item '527-\\_570-'\n",
       "\\item '570-\\_579-'\n",
       "\\item '188-\\_570-'\n",
       "\\item '178-\\_306+'\n",
       "\\end{enumerate*}\n"
      ],
      "text/markdown": [
       "1. '185+_570-'\n",
       "2. '185-_570-'\n",
       "3. '449-_570+'\n",
       "4. '570+_584-'\n",
       "5. '570+_7-'\n",
       "6. '18-_570-'\n",
       "7. '570+_96-'\n",
       "8. '282-_570+'\n",
       "9. '18+_570-'\n",
       "10. '352-_570+'\n",
       "11. '570+_590+'\n",
       "12. '570-_66-'\n",
       "13. '306+_570+'\n",
       "14. '306-_570-'\n",
       "15. '175-_570+'\n",
       "16. '393-_570+'\n",
       "17. '570-_66+'\n",
       "18. '499-_570-'\n",
       "19. '178-_570+'\n",
       "20. '570+_79-'\n",
       "21. '249-_570+'\n",
       "22. '570-_579+'\n",
       "23. '570-_79-'\n",
       "24. '556-_570+'\n",
       "25. '11-_570-'\n",
       "26. '210-_570+'\n",
       "27. '322-_570-'\n",
       "28. '119-_570+'\n",
       "29. '127-_570+'\n",
       "30. '425+_570-'\n",
       "31. '510-_570+'\n",
       "32. '28+_570+'\n",
       "33. '570+_65-'\n",
       "34. '527-_570-'\n",
       "35. '570-_579-'\n",
       "36. '188-_570-'\n",
       "37. '178-_306+'\n",
       "\n",
       "\n"
      ],
      "text/plain": [
       " [1] \"185+_570-\" \"185-_570-\" \"449-_570+\" \"570+_584-\" \"570+_7-\"   \"18-_570-\" \n",
       " [7] \"570+_96-\"  \"282-_570+\" \"18+_570-\"  \"352-_570+\" \"570+_590+\" \"570-_66-\" \n",
       "[13] \"306+_570+\" \"306-_570-\" \"175-_570+\" \"393-_570+\" \"570-_66+\"  \"499-_570-\"\n",
       "[19] \"178-_570+\" \"570+_79-\"  \"249-_570+\" \"570-_579+\" \"570-_79-\"  \"556-_570+\"\n",
       "[25] \"11-_570-\"  \"210-_570+\" \"322-_570-\" \"119-_570+\" \"127-_570+\" \"425+_570-\"\n",
       "[31] \"510-_570+\" \"28+_570+\"  \"570+_65-\"  \"527-_570-\" \"570-_579-\" \"188-_570-\"\n",
       "[37] \"178-_306+\""
      ]
     },
     "metadata": {},
     "output_type": "display_data"
    }
   ],
   "source": [
    "interactions"
   ]
  },
  {
   "cell_type": "code",
   "execution_count": 41,
   "metadata": {
    "collapsed": false
   },
   "outputs": [
    {
     "name": "stdout",
     "output_type": "stream",
     "text": [
      " [1] \"185\" \"185\" \"449\" \"570\" \"570\" \"18\"  \"570\" \"282\" \"18\"  \"352\" \"570\" \"570\"\n",
      "[13] \"306\" \"306\" \"175\" \"393\" \"570\" \"499\" \"178\" \"570\" \"249\" \"570\" \"570\" \"556\"\n",
      "[25] \"11\"  \"210\" \"322\" \"119\" \"127\" \"425\" \"510\" \"28\"  \"570\" \"527\" \"570\" \"188\"\n",
      "[37] \"178\"\n"
     ]
    }
   ],
   "source": [
    "interaction1 <- gsub('_.*', \"\", unlist(interactions))\n",
    "interaction1 <- substr(interaction1,1,nchar(interaction1)-1) \n",
    "print(interaction1)"
   ]
  },
  {
   "cell_type": "code",
   "execution_count": 42,
   "metadata": {
    "collapsed": false
   },
   "outputs": [
    {
     "name": "stdout",
     "output_type": "stream",
     "text": [
      " [1] \"570\" \"570\" \"570\" \"584\" \"7\"   \"570\" \"96\"  \"570\" \"570\" \"570\" \"590\" \"66\" \n",
      "[13] \"570\" \"570\" \"570\" \"570\" \"66\"  \"570\" \"570\" \"79\"  \"570\" \"579\" \"79\"  \"570\"\n",
      "[25] \"570\" \"570\" \"570\" \"570\" \"570\" \"570\" \"570\" \"570\" \"65\"  \"570\" \"579\" \"570\"\n",
      "[37] \"306\"\n"
     ]
    }
   ],
   "source": [
    "interaction2 <- gsub('.*_', \"\", unlist(interactions))\n",
    "interaction2 <- substr(interaction2,1,nchar(interaction2)-1) \n",
    "print(interaction2)"
   ]
  },
  {
   "cell_type": "code",
   "execution_count": 45,
   "metadata": {
    "collapsed": false
   },
   "outputs": [
    {
     "data": {
      "image/png": "[encoded data removed]",
      "text/plain": [
       "plot without title"
      ]
     },
     "metadata": {},
     "output_type": "display_data"
    }
   ],
   "source": [
    "p <- list()\n",
    "indx <- c(1, 2, 3, 4, 5, 6, 7)\n",
    "for(i in 1:length(indx)){\n",
    "    gene <- interaction1[indx[i]]\n",
    "    p[[i]] <- plotImg(x.late[, gene], late$template, FALSE)    \n",
    "}\n",
    "\n",
    "options(repr.plot.width = 30, repr.plot.height = 3)\n",
    "multiplot(plotlist = p, cols = n_genes)\n"
   ]
  },
  {
   "cell_type": "code",
   "execution_count": 46,
   "metadata": {
    "collapsed": false
   },
   "outputs": [
    {
     "data": {
      "image/png": "[encoded data removed]",
      "text/plain": [
       "plot without title"
      ]
     },
     "metadata": {},
     "output_type": "display_data"
    }
   ],
   "source": [
    "p <- list()\n",
    "for(i in 1:length(indx)){\n",
    "    gene <- interaction2[indx[i]]\n",
    "    p[[i]] <- plotImg(x.late[, gene], late$template, FALSE)    \n",
    "}\n",
    "\n",
    "options(repr.plot.width = 30, repr.plot.height = 3)\n",
    "multiplot(plotlist = p, cols = n_genes)\n"
   ]
  },
  {
   "cell_type": "code",
   "execution_count": 47,
   "metadata": {
    "collapsed": false
   },
   "outputs": [
    {
     "data": {
      "text/html": [
       "<ol class=list-inline>\n",
       "\t<li>'CG7337'</li>\n",
       "\t<li>'CG7337'</li>\n",
       "\t<li>'Cys.1'</li>\n",
       "\t<li>'Optix'</li>\n",
       "\t<li>'Optix'</li>\n",
       "\t<li>'Dfd'</li>\n",
       "\t<li>'Optix'</li>\n",
       "</ol>\n"
      ],
      "text/latex": [
       "\\begin{enumerate*}\n",
       "\\item 'CG7337'\n",
       "\\item 'CG7337'\n",
       "\\item 'Cys.1'\n",
       "\\item 'Optix'\n",
       "\\item 'Optix'\n",
       "\\item 'Dfd'\n",
       "\\item 'Optix'\n",
       "\\end{enumerate*}\n"
      ],
      "text/markdown": [
       "1. 'CG7337'\n",
       "2. 'CG7337'\n",
       "3. 'Cys.1'\n",
       "4. 'Optix'\n",
       "5. 'Optix'\n",
       "6. 'Dfd'\n",
       "7. 'Optix'\n",
       "\n",
       "\n"
      ],
      "text/plain": [
       "[1] \"CG7337\" \"CG7337\" \"Cys.1\"  \"Optix\"  \"Optix\"  \"Dfd\"    \"Optix\" "
      ]
     },
     "metadata": {},
     "output_type": "display_data"
    }
   ],
   "source": [
    "actual_names[as.numeric(interaction1)][indx]"
   ]
  },
  {
   "cell_type": "code",
   "execution_count": 48,
   "metadata": {
    "collapsed": false
   },
   "outputs": [
    {
     "data": {
      "text/html": [
       "<ol class=list-inline>\n",
       "\t<li>'Optix'</li>\n",
       "\t<li>'Optix'</li>\n",
       "\t<li>'Optix'</li>\n",
       "\t<li>'Esg'</li>\n",
       "\t<li>'CG1829'</li>\n",
       "\t<li>'Optix'</li>\n",
       "\t<li>'CalpA'</li>\n",
       "</ol>\n"
      ],
      "text/latex": [
       "\\begin{enumerate*}\n",
       "\\item 'Optix'\n",
       "\\item 'Optix'\n",
       "\\item 'Optix'\n",
       "\\item 'Esg'\n",
       "\\item 'CG1829'\n",
       "\\item 'Optix'\n",
       "\\item 'CalpA'\n",
       "\\end{enumerate*}\n"
      ],
      "text/markdown": [
       "1. 'Optix'\n",
       "2. 'Optix'\n",
       "3. 'Optix'\n",
       "4. 'Esg'\n",
       "5. 'CG1829'\n",
       "6. 'Optix'\n",
       "7. 'CalpA'\n",
       "\n",
       "\n"
      ],
      "text/plain": [
       "[1] \"Optix\"  \"Optix\"  \"Optix\"  \"Esg\"    \"CG1829\" \"Optix\"  \"CalpA\" "
      ]
     },
     "metadata": {},
     "output_type": "display_data"
    }
   ],
   "source": [
    "actual_names[as.numeric(interaction2)][indx]"
   ]
  },
  {
   "cell_type": "code",
   "execution_count": 49,
   "metadata": {
    "collapsed": false
   },
   "outputs": [
    {
     "data": {},
     "metadata": {},
     "output_type": "display_data"
    },
    {
     "data": {
      "image/png": "[encoded data removed]",
      "text/plain": [
       "plot without title"
      ]
     },
     "metadata": {},
     "output_type": "display_data"
    }
   ],
   "source": [
    "options(repr.plot.width = 3, repr.plot.height = 2)\n",
    "plotImg(late$x[, 'ey'], late$template, FALSE)    "
   ]
  },
  {
   "cell_type": "code",
   "execution_count": 50,
   "metadata": {
    "collapsed": false
   },
   "outputs": [
    {
     "data": {
      "text/html": [
       "<ol class=list-inline>\n",
       "\t<li>'185+_570-'</li>\n",
       "\t<li>'185-_570-'</li>\n",
       "\t<li>'449-_570+'</li>\n",
       "\t<li>'570+_584-'</li>\n",
       "\t<li>'570+_7-'</li>\n",
       "\t<li>'18-_570-'</li>\n",
       "\t<li>'570+_96-'</li>\n",
       "</ol>\n"
      ],
      "text/latex": [
       "\\begin{enumerate*}\n",
       "\\item '185+\\_570-'\n",
       "\\item '185-\\_570-'\n",
       "\\item '449-\\_570+'\n",
       "\\item '570+\\_584-'\n",
       "\\item '570+\\_7-'\n",
       "\\item '18-\\_570-'\n",
       "\\item '570+\\_96-'\n",
       "\\end{enumerate*}\n"
      ],
      "text/markdown": [
       "1. '185+_570-'\n",
       "2. '185-_570-'\n",
       "3. '449-_570+'\n",
       "4. '570+_584-'\n",
       "5. '570+_7-'\n",
       "6. '18-_570-'\n",
       "7. '570+_96-'\n",
       "\n",
       "\n"
      ],
      "text/plain": [
       "[1] \"185+_570-\" \"185-_570-\" \"449-_570+\" \"570+_584-\" \"570+_7-\"   \"18-_570-\" \n",
       "[7] \"570+_96-\" "
      ]
     },
     "metadata": {},
     "output_type": "display_data"
    }
   ],
   "source": [
    "interactions[indx]"
   ]
  },
  {
   "cell_type": "code",
   "execution_count": null,
   "metadata": {
    "collapsed": true
   },
   "outputs": [],
   "source": []
  }
 ],
 "metadata": {
  "kernelspec": {
   "display_name": "R",
   "language": "R",
   "name": "ir"
  },
  "language_info": {
   "codemirror_mode": "r",
   "file_extension": ".r",
   "mimetype": "text/x-r-source",
   "name": "R",
   "pygments_lexer": "r",
   "version": "3.4.4"
  }
 },
 "nbformat": 4,
 "nbformat_minor": 2
}
