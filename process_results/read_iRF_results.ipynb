{
 "cells": [
  {
   "cell_type": "code",
   "execution_count": 1,
   "metadata": {
    "collapsed": false
   },
   "outputs": [
    {
     "name": "stderr",
     "output_type": "stream",
     "text": [
      "Loading tidyverse: ggplot2\n",
      "Loading tidyverse: tibble\n",
      "Loading tidyverse: tidyr\n",
      "Loading tidyverse: readr\n",
      "Loading tidyverse: purrr\n",
      "Loading tidyverse: dplyr\n",
      "Conflicts with tidy packages ---------------------------------------------------\n",
      "filter(): dplyr, stats\n",
      "lag():    dplyr, stats\n",
      "Loading required package: scales\n",
      "\n",
      "Attaching package: ‘scales’\n",
      "\n",
      "The following object is masked from ‘package:purrr’:\n",
      "\n",
      "    discard\n",
      "\n",
      "The following object is masked from ‘package:readr’:\n",
      "\n",
      "    col_factor\n",
      "\n",
      "Loading required package: gridExtra\n",
      "\n",
      "Attaching package: ‘gridExtra’\n",
      "\n",
      "The following object is masked from ‘package:dplyr’:\n",
      "\n",
      "    combine\n",
      "\n",
      "Loading required package: grid\n"
     ]
    }
   ],
   "source": [
    "library(tidyverse)\n",
    "\n",
    "source('../utils/plottingUtilities.R')"
   ]
  },
  {
   "cell_type": "code",
   "execution_count": 2,
   "metadata": {
    "collapsed": true
   },
   "outputs": [],
   "source": [
    "# original images \n",
    "x <- read.csv('../data/clean_x.csv')[, -1]"
   ]
  },
  {
   "cell_type": "code",
   "execution_count": 3,
   "metadata": {
    "collapsed": true
   },
   "outputs": [],
   "source": [
    "load('../scripts/irf_fits/irfSpatialFit_optix.Rdata')"
   ]
  },
  {
   "cell_type": "code",
   "execution_count": 4,
   "metadata": {
    "collapsed": true
   },
   "outputs": [],
   "source": [
    "load('../data/lateData.Rdata')"
   ]
  },
  {
   "cell_type": "code",
   "execution_count": 5,
   "metadata": {
    "collapsed": true
   },
   "outputs": [],
   "source": [
    "actual_names <- colnames(x.late)"
   ]
  },
  {
   "cell_type": "code",
   "execution_count": 6,
   "metadata": {
    "collapsed": true
   },
   "outputs": [],
   "source": [
    "colnames(x.late) <- as.character(1:dim(x.late)[2])"
   ]
  },
  {
   "cell_type": "code",
   "execution_count": 7,
   "metadata": {
    "collapsed": false
   },
   "outputs": [
    {
     "data": {
      "text/html": [
       "<ol class=list-inline>\n",
       "\t<li>'actual_names'</li>\n",
       "\t<li>'fit'</li>\n",
       "\t<li>'generateImage'</li>\n",
       "\t<li>'getNodeImages'</li>\n",
       "\t<li>'getNodeLabel'</li>\n",
       "\t<li>'getNodePosition'</li>\n",
       "\t<li>'img2Color'</li>\n",
       "\t<li>'late'</li>\n",
       "\t<li>'mapLate2Early'</li>\n",
       "\t<li>'multiplot'</li>\n",
       "\t<li>'overlayImage'</li>\n",
       "\t<li>'overlayImages'</li>\n",
       "\t<li>'plot_all_PPs'</li>\n",
       "\t<li>'plotGroupImg'</li>\n",
       "\t<li>'plotImg'</li>\n",
       "\t<li>'plotPP'</li>\n",
       "\t<li>'shiftHoriz'</li>\n",
       "\t<li>'shiftImg'</li>\n",
       "\t<li>'shiftVert'</li>\n",
       "\t<li>'test.id'</li>\n",
       "\t<li>'tf'</li>\n",
       "\t<li>'train.id'</li>\n",
       "\t<li>'x'</li>\n",
       "\t<li>'x.late'</li>\n",
       "\t<li>'y.late'</li>\n",
       "</ol>\n"
      ],
      "text/latex": [
       "\\begin{enumerate*}\n",
       "\\item 'actual\\_names'\n",
       "\\item 'fit'\n",
       "\\item 'generateImage'\n",
       "\\item 'getNodeImages'\n",
       "\\item 'getNodeLabel'\n",
       "\\item 'getNodePosition'\n",
       "\\item 'img2Color'\n",
       "\\item 'late'\n",
       "\\item 'mapLate2Early'\n",
       "\\item 'multiplot'\n",
       "\\item 'overlayImage'\n",
       "\\item 'overlayImages'\n",
       "\\item 'plot\\_all\\_PPs'\n",
       "\\item 'plotGroupImg'\n",
       "\\item 'plotImg'\n",
       "\\item 'plotPP'\n",
       "\\item 'shiftHoriz'\n",
       "\\item 'shiftImg'\n",
       "\\item 'shiftVert'\n",
       "\\item 'test.id'\n",
       "\\item 'tf'\n",
       "\\item 'train.id'\n",
       "\\item 'x'\n",
       "\\item 'x.late'\n",
       "\\item 'y.late'\n",
       "\\end{enumerate*}\n"
      ],
      "text/markdown": [
       "1. 'actual_names'\n",
       "2. 'fit'\n",
       "3. 'generateImage'\n",
       "4. 'getNodeImages'\n",
       "5. 'getNodeLabel'\n",
       "6. 'getNodePosition'\n",
       "7. 'img2Color'\n",
       "8. 'late'\n",
       "9. 'mapLate2Early'\n",
       "10. 'multiplot'\n",
       "11. 'overlayImage'\n",
       "12. 'overlayImages'\n",
       "13. 'plot_all_PPs'\n",
       "14. 'plotGroupImg'\n",
       "15. 'plotImg'\n",
       "16. 'plotPP'\n",
       "17. 'shiftHoriz'\n",
       "18. 'shiftImg'\n",
       "19. 'shiftVert'\n",
       "20. 'test.id'\n",
       "21. 'tf'\n",
       "22. 'train.id'\n",
       "23. 'x'\n",
       "24. 'x.late'\n",
       "25. 'y.late'\n",
       "\n",
       "\n"
      ],
      "text/plain": [
       " [1] \"actual_names\"    \"fit\"             \"generateImage\"   \"getNodeImages\"  \n",
       " [5] \"getNodeLabel\"    \"getNodePosition\" \"img2Color\"       \"late\"           \n",
       " [9] \"mapLate2Early\"   \"multiplot\"       \"overlayImage\"    \"overlayImages\"  \n",
       "[13] \"plot_all_PPs\"    \"plotGroupImg\"    \"plotImg\"         \"plotPP\"         \n",
       "[17] \"shiftHoriz\"      \"shiftImg\"        \"shiftVert\"       \"test.id\"        \n",
       "[21] \"tf\"              \"train.id\"        \"x\"               \"x.late\"         \n",
       "[25] \"y.late\"         "
      ]
     },
     "metadata": {},
     "output_type": "display_data"
    }
   ],
   "source": [
    "ls()"
   ]
  },
  {
   "cell_type": "code",
   "execution_count": 8,
   "metadata": {
    "collapsed": false
   },
   "outputs": [
    {
     "data": {
      "text/html": [
       "<table>\n",
       "<thead><tr><th scope=col>int</th><th scope=col>sta.diff</th><th scope=col>diff</th><th scope=col>sta.prev</th><th scope=col>prev1</th><th scope=col>prev0</th><th scope=col>sta.prec</th><th scope=col>prec</th></tr></thead>\n",
       "<tbody>\n",
       "\t<tr><td>92+_93+     </td><td>0.99        </td><td> 0.080332771</td><td>0.97        </td><td>0.080355464 </td><td>2.269300e-05</td><td>0.76        </td><td>0.9145514   </td></tr>\n",
       "\t<tr><td>480+_92+    </td><td>0.96        </td><td> 0.070366032</td><td>0.92        </td><td>0.070488834 </td><td>1.228023e-04</td><td>  NA        </td><td>      NaN   </td></tr>\n",
       "\t<tr><td>365+_605+   </td><td>0.99        </td><td> 0.064732461</td><td>0.99        </td><td>0.064774226 </td><td>4.176543e-05</td><td>0.91        </td><td>0.9582918   </td></tr>\n",
       "\t<tr><td>205-_605+   </td><td>1.00        </td><td> 0.058129102</td><td>0.96        </td><td>0.058180582 </td><td>5.148032e-05</td><td>0.96        </td><td>0.9578701   </td></tr>\n",
       "\t<tr><td>532+_605+   </td><td>0.99        </td><td> 0.054399044</td><td>0.95        </td><td>0.054437244 </td><td>3.819956e-05</td><td>0.79        </td><td>0.9553465   </td></tr>\n",
       "\t<tr><td>548+_92+    </td><td>0.92        </td><td> 0.043365201</td><td>0.85        </td><td>0.043404047 </td><td>3.884544e-05</td><td>  NA        </td><td>      NaN   </td></tr>\n",
       "\t<tr><td>585+_92+    </td><td>0.98        </td><td> 0.038277322</td><td>0.83        </td><td>0.038305193 </td><td>2.787083e-05</td><td>  NA        </td><td>      NaN   </td></tr>\n",
       "\t<tr><td>605+_92+    </td><td>0.94        </td><td> 0.036156276</td><td>0.01        </td><td>0.036186358 </td><td>3.008137e-05</td><td>0.87        </td><td>0.8958215   </td></tr>\n",
       "\t<tr><td>605+_609-   </td><td>0.99        </td><td> 0.035231279</td><td>0.79        </td><td>0.035257370 </td><td>2.609070e-05</td><td>  NA        </td><td>      NaN   </td></tr>\n",
       "\t<tr><td>570+_605-   </td><td>1.00        </td><td> 0.033062111</td><td>0.99        </td><td>0.036126144 </td><td>3.064033e-03</td><td>0.68        </td><td>0.7810813   </td></tr>\n",
       "\t<tr><td>296+_92+    </td><td>0.92        </td><td> 0.027672632</td><td>0.88        </td><td>0.027696665 </td><td>2.403245e-05</td><td>  NA        </td><td>      NaN   </td></tr>\n",
       "\t<tr><td>570+_92-    </td><td>0.99        </td><td> 0.025842853</td><td>0.92        </td><td>0.028050052 </td><td>2.207199e-03</td><td>  NA        </td><td>      NaN   </td></tr>\n",
       "\t<tr><td>609-_92+    </td><td>0.88        </td><td> 0.023279960</td><td>0.29        </td><td>0.023304800 </td><td>2.484042e-05</td><td>0.51        </td><td>0.8121353   </td></tr>\n",
       "\t<tr><td>484-_605+   </td><td>0.98        </td><td> 0.018144027</td><td>0.95        </td><td>0.018158129 </td><td>1.410167e-05</td><td>0.79        </td><td>0.9474224   </td></tr>\n",
       "\t<tr><td>208-_92+    </td><td>0.91        </td><td> 0.018130264</td><td>0.67        </td><td>0.018143650 </td><td>1.338576e-05</td><td>  NA        </td><td>      NaN   </td></tr>\n",
       "\t<tr><td>103+_92+    </td><td>0.86        </td><td> 0.010410712</td><td>0.78        </td><td>0.010419341 </td><td>8.628170e-06</td><td>  NA        </td><td>      NaN   </td></tr>\n",
       "\t<tr><td>314+_92+    </td><td>0.84        </td><td> 0.009516946</td><td>0.78        </td><td>0.009548922 </td><td>3.197536e-05</td><td>  NA        </td><td>      NaN   </td></tr>\n",
       "\t<tr><td>425+_92+    </td><td>0.83        </td><td> 0.008079345</td><td>0.64        </td><td>0.008087582 </td><td>8.236611e-06</td><td>  NA        </td><td>      NaN   </td></tr>\n",
       "\t<tr><td>28+_570+    </td><td>0.96        </td><td> 0.007803104</td><td>0.91        </td><td>0.007836449 </td><td>3.334506e-05</td><td>0.53        </td><td>0.8256690   </td></tr>\n",
       "\t<tr><td>314-_92+    </td><td>0.74        </td><td> 0.005349924</td><td>0.43        </td><td>0.005411426 </td><td>6.150145e-05</td><td>  NA        </td><td>      NaN   </td></tr>\n",
       "\t<tr><td>533+_92+    </td><td>0.71        </td><td> 0.004196757</td><td>0.44        </td><td>0.004207116 </td><td>1.035889e-05</td><td>  NA        </td><td>      NaN   </td></tr>\n",
       "\t<tr><td>365-_92+    </td><td>0.63        </td><td> 0.003911135</td><td>0.53        </td><td>0.003924372 </td><td>1.323696e-05</td><td>  NA        </td><td>      NaN   </td></tr>\n",
       "\t<tr><td>116-_92+    </td><td>0.62        </td><td> 0.002745774</td><td>0.37        </td><td>0.005236659 </td><td>2.490885e-03</td><td>  NA        </td><td>      NaN   </td></tr>\n",
       "\t<tr><td>499-_92+    </td><td>0.55        </td><td>-0.006749586</td><td>0.18        </td><td>0.004999144 </td><td>1.174873e-02</td><td>  NA        </td><td>      NaN   </td></tr>\n",
       "\t<tr><td>604+_92-    </td><td>0.51        </td><td>-0.010648974</td><td>0.99        </td><td>0.024844610 </td><td>3.549358e-02</td><td>0.85        </td><td>0.8940314   </td></tr>\n",
       "\t<tr><td>605+_92-    </td><td>0.50        </td><td>-0.016690416</td><td>0.22        </td><td>0.023274706 </td><td>3.996512e-02</td><td>0.02        </td><td>0.7894680   </td></tr>\n",
       "\t<tr><td>247+_92-    </td><td>0.02        </td><td>-0.136906266</td><td>0.99        </td><td>0.012238173 </td><td>1.491444e-01</td><td>  NA        </td><td>      NaN   </td></tr>\n",
       "</tbody>\n",
       "</table>\n"
      ],
      "text/latex": [
       "\\begin{tabular}{r|llllllll}\n",
       " int & sta.diff & diff & sta.prev & prev1 & prev0 & sta.prec & prec\\\\\n",
       "\\hline\n",
       "\t 92+\\_93+    & 0.99         &  0.080332771 & 0.97         & 0.080355464  & 2.269300e-05 & 0.76         & 0.9145514   \\\\\n",
       "\t 480+\\_92+   & 0.96         &  0.070366032 & 0.92         & 0.070488834  & 1.228023e-04 &   NA         &       NaN   \\\\\n",
       "\t 365+\\_605+  & 0.99         &  0.064732461 & 0.99         & 0.064774226  & 4.176543e-05 & 0.91         & 0.9582918   \\\\\n",
       "\t 205-\\_605+  & 1.00         &  0.058129102 & 0.96         & 0.058180582  & 5.148032e-05 & 0.96         & 0.9578701   \\\\\n",
       "\t 532+\\_605+  & 0.99         &  0.054399044 & 0.95         & 0.054437244  & 3.819956e-05 & 0.79         & 0.9553465   \\\\\n",
       "\t 548+\\_92+   & 0.92         &  0.043365201 & 0.85         & 0.043404047  & 3.884544e-05 &   NA         &       NaN   \\\\\n",
       "\t 585+\\_92+   & 0.98         &  0.038277322 & 0.83         & 0.038305193  & 2.787083e-05 &   NA         &       NaN   \\\\\n",
       "\t 605+\\_92+   & 0.94         &  0.036156276 & 0.01         & 0.036186358  & 3.008137e-05 & 0.87         & 0.8958215   \\\\\n",
       "\t 605+\\_609-  & 0.99         &  0.035231279 & 0.79         & 0.035257370  & 2.609070e-05 &   NA         &       NaN   \\\\\n",
       "\t 570+\\_605-  & 1.00         &  0.033062111 & 0.99         & 0.036126144  & 3.064033e-03 & 0.68         & 0.7810813   \\\\\n",
       "\t 296+\\_92+   & 0.92         &  0.027672632 & 0.88         & 0.027696665  & 2.403245e-05 &   NA         &       NaN   \\\\\n",
       "\t 570+\\_92-   & 0.99         &  0.025842853 & 0.92         & 0.028050052  & 2.207199e-03 &   NA         &       NaN   \\\\\n",
       "\t 609-\\_92+   & 0.88         &  0.023279960 & 0.29         & 0.023304800  & 2.484042e-05 & 0.51         & 0.8121353   \\\\\n",
       "\t 484-\\_605+  & 0.98         &  0.018144027 & 0.95         & 0.018158129  & 1.410167e-05 & 0.79         & 0.9474224   \\\\\n",
       "\t 208-\\_92+   & 0.91         &  0.018130264 & 0.67         & 0.018143650  & 1.338576e-05 &   NA         &       NaN   \\\\\n",
       "\t 103+\\_92+   & 0.86         &  0.010410712 & 0.78         & 0.010419341  & 8.628170e-06 &   NA         &       NaN   \\\\\n",
       "\t 314+\\_92+   & 0.84         &  0.009516946 & 0.78         & 0.009548922  & 3.197536e-05 &   NA         &       NaN   \\\\\n",
       "\t 425+\\_92+   & 0.83         &  0.008079345 & 0.64         & 0.008087582  & 8.236611e-06 &   NA         &       NaN   \\\\\n",
       "\t 28+\\_570+   & 0.96         &  0.007803104 & 0.91         & 0.007836449  & 3.334506e-05 & 0.53         & 0.8256690   \\\\\n",
       "\t 314-\\_92+   & 0.74         &  0.005349924 & 0.43         & 0.005411426  & 6.150145e-05 &   NA         &       NaN   \\\\\n",
       "\t 533+\\_92+   & 0.71         &  0.004196757 & 0.44         & 0.004207116  & 1.035889e-05 &   NA         &       NaN   \\\\\n",
       "\t 365-\\_92+   & 0.63         &  0.003911135 & 0.53         & 0.003924372  & 1.323696e-05 &   NA         &       NaN   \\\\\n",
       "\t 116-\\_92+   & 0.62         &  0.002745774 & 0.37         & 0.005236659  & 2.490885e-03 &   NA         &       NaN   \\\\\n",
       "\t 499-\\_92+   & 0.55         & -0.006749586 & 0.18         & 0.004999144  & 1.174873e-02 &   NA         &       NaN   \\\\\n",
       "\t 604+\\_92-   & 0.51         & -0.010648974 & 0.99         & 0.024844610  & 3.549358e-02 & 0.85         & 0.8940314   \\\\\n",
       "\t 605+\\_92-   & 0.50         & -0.016690416 & 0.22         & 0.023274706  & 3.996512e-02 & 0.02         & 0.7894680   \\\\\n",
       "\t 247+\\_92-   & 0.02         & -0.136906266 & 0.99         & 0.012238173  & 1.491444e-01 &   NA         &       NaN   \\\\\n",
       "\\end{tabular}\n"
      ],
      "text/markdown": [
       "\n",
       "int | sta.diff | diff | sta.prev | prev1 | prev0 | sta.prec | prec | \n",
       "|---|---|---|---|---|---|---|---|---|---|---|---|---|---|---|---|---|---|---|---|---|---|---|---|---|---|---|\n",
       "| 92+_93+      | 0.99         |  0.080332771 | 0.97         | 0.080355464  | 2.269300e-05 | 0.76         | 0.9145514    | \n",
       "| 480+_92+     | 0.96         |  0.070366032 | 0.92         | 0.070488834  | 1.228023e-04 |   NA         |       NaN    | \n",
       "| 365+_605+    | 0.99         |  0.064732461 | 0.99         | 0.064774226  | 4.176543e-05 | 0.91         | 0.9582918    | \n",
       "| 205-_605+    | 1.00         |  0.058129102 | 0.96         | 0.058180582  | 5.148032e-05 | 0.96         | 0.9578701    | \n",
       "| 532+_605+    | 0.99         |  0.054399044 | 0.95         | 0.054437244  | 3.819956e-05 | 0.79         | 0.9553465    | \n",
       "| 548+_92+     | 0.92         |  0.043365201 | 0.85         | 0.043404047  | 3.884544e-05 |   NA         |       NaN    | \n",
       "| 585+_92+     | 0.98         |  0.038277322 | 0.83         | 0.038305193  | 2.787083e-05 |   NA         |       NaN    | \n",
       "| 605+_92+     | 0.94         |  0.036156276 | 0.01         | 0.036186358  | 3.008137e-05 | 0.87         | 0.8958215    | \n",
       "| 605+_609-    | 0.99         |  0.035231279 | 0.79         | 0.035257370  | 2.609070e-05 |   NA         |       NaN    | \n",
       "| 570+_605-    | 1.00         |  0.033062111 | 0.99         | 0.036126144  | 3.064033e-03 | 0.68         | 0.7810813    | \n",
       "| 296+_92+     | 0.92         |  0.027672632 | 0.88         | 0.027696665  | 2.403245e-05 |   NA         |       NaN    | \n",
       "| 570+_92-     | 0.99         |  0.025842853 | 0.92         | 0.028050052  | 2.207199e-03 |   NA         |       NaN    | \n",
       "| 609-_92+     | 0.88         |  0.023279960 | 0.29         | 0.023304800  | 2.484042e-05 | 0.51         | 0.8121353    | \n",
       "| 484-_605+    | 0.98         |  0.018144027 | 0.95         | 0.018158129  | 1.410167e-05 | 0.79         | 0.9474224    | \n",
       "| 208-_92+     | 0.91         |  0.018130264 | 0.67         | 0.018143650  | 1.338576e-05 |   NA         |       NaN    | \n",
       "| 103+_92+     | 0.86         |  0.010410712 | 0.78         | 0.010419341  | 8.628170e-06 |   NA         |       NaN    | \n",
       "| 314+_92+     | 0.84         |  0.009516946 | 0.78         | 0.009548922  | 3.197536e-05 |   NA         |       NaN    | \n",
       "| 425+_92+     | 0.83         |  0.008079345 | 0.64         | 0.008087582  | 8.236611e-06 |   NA         |       NaN    | \n",
       "| 28+_570+     | 0.96         |  0.007803104 | 0.91         | 0.007836449  | 3.334506e-05 | 0.53         | 0.8256690    | \n",
       "| 314-_92+     | 0.74         |  0.005349924 | 0.43         | 0.005411426  | 6.150145e-05 |   NA         |       NaN    | \n",
       "| 533+_92+     | 0.71         |  0.004196757 | 0.44         | 0.004207116  | 1.035889e-05 |   NA         |       NaN    | \n",
       "| 365-_92+     | 0.63         |  0.003911135 | 0.53         | 0.003924372  | 1.323696e-05 |   NA         |       NaN    | \n",
       "| 116-_92+     | 0.62         |  0.002745774 | 0.37         | 0.005236659  | 2.490885e-03 |   NA         |       NaN    | \n",
       "| 499-_92+     | 0.55         | -0.006749586 | 0.18         | 0.004999144  | 1.174873e-02 |   NA         |       NaN    | \n",
       "| 604+_92-     | 0.51         | -0.010648974 | 0.99         | 0.024844610  | 3.549358e-02 | 0.85         | 0.8940314    | \n",
       "| 605+_92-     | 0.50         | -0.016690416 | 0.22         | 0.023274706  | 3.996512e-02 | 0.02         | 0.7894680    | \n",
       "| 247+_92-     | 0.02         | -0.136906266 | 0.99         | 0.012238173  | 1.491444e-01 |   NA         |       NaN    | \n",
       "\n",
       "\n"
      ],
      "text/plain": [
       "   int       sta.diff diff         sta.prev prev1       prev0        sta.prec\n",
       "1  92+_93+   0.99      0.080332771 0.97     0.080355464 2.269300e-05 0.76    \n",
       "2  480+_92+  0.96      0.070366032 0.92     0.070488834 1.228023e-04   NA    \n",
       "3  365+_605+ 0.99      0.064732461 0.99     0.064774226 4.176543e-05 0.91    \n",
       "4  205-_605+ 1.00      0.058129102 0.96     0.058180582 5.148032e-05 0.96    \n",
       "5  532+_605+ 0.99      0.054399044 0.95     0.054437244 3.819956e-05 0.79    \n",
       "6  548+_92+  0.92      0.043365201 0.85     0.043404047 3.884544e-05   NA    \n",
       "7  585+_92+  0.98      0.038277322 0.83     0.038305193 2.787083e-05   NA    \n",
       "8  605+_92+  0.94      0.036156276 0.01     0.036186358 3.008137e-05 0.87    \n",
       "9  605+_609- 0.99      0.035231279 0.79     0.035257370 2.609070e-05   NA    \n",
       "10 570+_605- 1.00      0.033062111 0.99     0.036126144 3.064033e-03 0.68    \n",
       "11 296+_92+  0.92      0.027672632 0.88     0.027696665 2.403245e-05   NA    \n",
       "12 570+_92-  0.99      0.025842853 0.92     0.028050052 2.207199e-03   NA    \n",
       "13 609-_92+  0.88      0.023279960 0.29     0.023304800 2.484042e-05 0.51    \n",
       "14 484-_605+ 0.98      0.018144027 0.95     0.018158129 1.410167e-05 0.79    \n",
       "15 208-_92+  0.91      0.018130264 0.67     0.018143650 1.338576e-05   NA    \n",
       "16 103+_92+  0.86      0.010410712 0.78     0.010419341 8.628170e-06   NA    \n",
       "17 314+_92+  0.84      0.009516946 0.78     0.009548922 3.197536e-05   NA    \n",
       "18 425+_92+  0.83      0.008079345 0.64     0.008087582 8.236611e-06   NA    \n",
       "19 28+_570+  0.96      0.007803104 0.91     0.007836449 3.334506e-05 0.53    \n",
       "20 314-_92+  0.74      0.005349924 0.43     0.005411426 6.150145e-05   NA    \n",
       "21 533+_92+  0.71      0.004196757 0.44     0.004207116 1.035889e-05   NA    \n",
       "22 365-_92+  0.63      0.003911135 0.53     0.003924372 1.323696e-05   NA    \n",
       "23 116-_92+  0.62      0.002745774 0.37     0.005236659 2.490885e-03   NA    \n",
       "24 499-_92+  0.55     -0.006749586 0.18     0.004999144 1.174873e-02   NA    \n",
       "25 604+_92-  0.51     -0.010648974 0.99     0.024844610 3.549358e-02 0.85    \n",
       "26 605+_92-  0.50     -0.016690416 0.22     0.023274706 3.996512e-02 0.02    \n",
       "27 247+_92-  0.02     -0.136906266 0.99     0.012238173 1.491444e-01   NA    \n",
       "   prec     \n",
       "1  0.9145514\n",
       "2        NaN\n",
       "3  0.9582918\n",
       "4  0.9578701\n",
       "5  0.9553465\n",
       "6        NaN\n",
       "7        NaN\n",
       "8  0.8958215\n",
       "9        NaN\n",
       "10 0.7810813\n",
       "11       NaN\n",
       "12       NaN\n",
       "13 0.8121353\n",
       "14 0.9474224\n",
       "15       NaN\n",
       "16       NaN\n",
       "17       NaN\n",
       "18       NaN\n",
       "19 0.8256690\n",
       "20       NaN\n",
       "21       NaN\n",
       "22       NaN\n",
       "23       NaN\n",
       "24       NaN\n",
       "25 0.8940314\n",
       "26 0.7894680\n",
       "27       NaN"
      ]
     },
     "metadata": {},
     "output_type": "display_data"
    }
   ],
   "source": [
    "fit$importance"
   ]
  },
  {
   "cell_type": "code",
   "execution_count": 9,
   "metadata": {
    "collapsed": false
   },
   "outputs": [],
   "source": [
    "which_int <- (fit$importance[, 'sta.prev'] > 0.5) & \n",
    "            (fit$importance[, 'sta.prec'] > 0.5) & \n",
    "            (fit$importance[, 'sta.diff'] > 0.5)\n"
   ]
  },
  {
   "cell_type": "code",
   "execution_count": 10,
   "metadata": {
    "collapsed": true
   },
   "outputs": [],
   "source": [
    "interactions <- fit$importance[as.vector(which_int), 'int']"
   ]
  },
  {
   "cell_type": "code",
   "execution_count": 11,
   "metadata": {
    "collapsed": false
   },
   "outputs": [
    {
     "data": {
      "text/html": [
       "<table>\n",
       "<thead><tr><th scope=col>int</th></tr></thead>\n",
       "<tbody>\n",
       "\t<tr><td>92+_93+  </td></tr>\n",
       "\t<tr><td>365+_605+</td></tr>\n",
       "\t<tr><td>205-_605+</td></tr>\n",
       "\t<tr><td>532+_605+</td></tr>\n",
       "\t<tr><td>570+_605-</td></tr>\n",
       "\t<tr><td>484-_605+</td></tr>\n",
       "\t<tr><td>28+_570+ </td></tr>\n",
       "\t<tr><td>604+_92- </td></tr>\n",
       "</tbody>\n",
       "</table>\n"
      ],
      "text/latex": [
       "\\begin{tabular}{r|l}\n",
       " int\\\\\n",
       "\\hline\n",
       "\t 92+\\_93+  \\\\\n",
       "\t 365+\\_605+\\\\\n",
       "\t 205-\\_605+\\\\\n",
       "\t 532+\\_605+\\\\\n",
       "\t 570+\\_605-\\\\\n",
       "\t 484-\\_605+\\\\\n",
       "\t 28+\\_570+ \\\\\n",
       "\t 604+\\_92- \\\\\n",
       "\\end{tabular}\n"
      ],
      "text/markdown": [
       "\n",
       "int | \n",
       "|---|---|---|---|---|---|---|---|\n",
       "| 92+_93+   | \n",
       "| 365+_605+ | \n",
       "| 205-_605+ | \n",
       "| 532+_605+ | \n",
       "| 570+_605- | \n",
       "| 484-_605+ | \n",
       "| 28+_570+  | \n",
       "| 604+_92-  | \n",
       "\n",
       "\n"
      ],
      "text/plain": [
       "  int      \n",
       "1 92+_93+  \n",
       "2 365+_605+\n",
       "3 205-_605+\n",
       "4 532+_605+\n",
       "5 570+_605-\n",
       "6 484-_605+\n",
       "7 28+_570+ \n",
       "8 604+_92- "
      ]
     },
     "metadata": {},
     "output_type": "display_data"
    }
   ],
   "source": [
    "interactions"
   ]
  },
  {
   "cell_type": "code",
   "execution_count": 12,
   "metadata": {
    "collapsed": false
   },
   "outputs": [
    {
     "name": "stdout",
     "output_type": "stream",
     "text": [
      " int1  int2  int3  int4  int5  int6  int7  int8 \n",
      " \"92\" \"365\" \"205\" \"532\" \"570\" \"484\"  \"28\" \"604\" \n"
     ]
    }
   ],
   "source": [
    "interaction1 <- gsub('_.*', \"\", unlist(interactions))\n",
    "interaction1 <- substr(interaction1,1,nchar(interaction1)-1) \n",
    "print(interaction1)"
   ]
  },
  {
   "cell_type": "code",
   "execution_count": 13,
   "metadata": {
    "collapsed": false
   },
   "outputs": [
    {
     "name": "stdout",
     "output_type": "stream",
     "text": [
      " int1  int2  int3  int4  int5  int6  int7  int8 \n",
      " \"93\" \"605\" \"605\" \"605\" \"605\" \"605\" \"570\"  \"92\" \n"
     ]
    }
   ],
   "source": [
    "interaction2 <- gsub('.*_', \"\", unlist(interactions))\n",
    "interaction2 <- substr(interaction2,1,nchar(interaction2)-1) \n",
    "print(interaction2)"
   ]
  },
  {
   "cell_type": "code",
   "execution_count": 37,
   "metadata": {
    "collapsed": false
   },
   "outputs": [
    {
     "data": {
      "image/png": "[encoded data removed]",
      "text/plain": [
       "plot without title"
      ]
     },
     "metadata": {},
     "output_type": "display_data"
    }
   ],
   "source": [
    "p <- list()\n",
    "n_genes <- 7\n",
    "for(i in 1:n_genes){\n",
    "    gene <- interaction1[i + 1]\n",
    "    p[[i]] <- plotImg(x.late[, gene], late$template, FALSE)    \n",
    "}\n",
    "\n",
    "options(repr.plot.width = 30, repr.plot.height = 3)\n",
    "multiplot(plotlist = p, cols = n_genes)\n"
   ]
  },
  {
   "cell_type": "code",
   "execution_count": 39,
   "metadata": {
    "collapsed": false
   },
   "outputs": [
    {
     "data": {
      "image/png": "[encoded data removed]",
      "text/plain": [
       "plot without title"
      ]
     },
     "metadata": {},
     "output_type": "display_data"
    }
   ],
   "source": [
    "p <- list()\n",
    "n_genes <- 7\n",
    "for(i in 1:n_genes){\n",
    "    gene <- interaction2[i + 1]\n",
    "    p[[i]] <- plotImg(x.late[, gene], late$template, FALSE)    \n",
    "}\n",
    "\n",
    "options(repr.plot.width = 30, repr.plot.height = 3)\n",
    "multiplot(plotlist = p, cols = n_genes)\n"
   ]
  },
  {
   "cell_type": "code",
   "execution_count": 40,
   "metadata": {
    "collapsed": false
   },
   "outputs": [
    {
     "data": {
      "text/html": [
       "<ol class=list-inline>\n",
       "\t<li>'Tkr'</li>\n",
       "\t<li>'CG5114'</li>\n",
       "\t<li>'Larp'</li>\n",
       "\t<li>'Alhambra'</li>\n",
       "\t<li>'Optix'</li>\n",
       "\t<li>'LanA'</li>\n",
       "\t<li>'h'</li>\n",
       "\t<li>'Eya_1'</li>\n",
       "</ol>\n"
      ],
      "text/latex": [
       "\\begin{enumerate*}\n",
       "\\item 'Tkr'\n",
       "\\item 'CG5114'\n",
       "\\item 'Larp'\n",
       "\\item 'Alhambra'\n",
       "\\item 'Optix'\n",
       "\\item 'LanA'\n",
       "\\item 'h'\n",
       "\\item 'Eya\\_1'\n",
       "\\end{enumerate*}\n"
      ],
      "text/markdown": [
       "1. 'Tkr'\n",
       "2. 'CG5114'\n",
       "3. 'Larp'\n",
       "4. 'Alhambra'\n",
       "5. 'Optix'\n",
       "6. 'LanA'\n",
       "7. 'h'\n",
       "8. 'Eya_1'\n",
       "\n",
       "\n"
      ],
      "text/plain": [
       "[1] \"Tkr\"      \"CG5114\"   \"Larp\"     \"Alhambra\" \"Optix\"    \"LanA\"     \"h\"       \n",
       "[8] \"Eya_1\"   "
      ]
     },
     "metadata": {},
     "output_type": "display_data"
    }
   ],
   "source": [
    "actual_names[as.numeric(interaction1)]"
   ]
  },
  {
   "cell_type": "code",
   "execution_count": 41,
   "metadata": {
    "collapsed": false
   },
   "outputs": [
    {
     "data": {
      "text/html": [
       "<ol class=list-inline>\n",
       "\t<li>'Tkr.1'</li>\n",
       "\t<li>'Eya_1.1'</li>\n",
       "\t<li>'Eya_1.1'</li>\n",
       "\t<li>'Eya_1.1'</li>\n",
       "\t<li>'Eya_1.1'</li>\n",
       "\t<li>'Eya_1.1'</li>\n",
       "\t<li>'Optix'</li>\n",
       "\t<li>'Tkr'</li>\n",
       "</ol>\n"
      ],
      "text/latex": [
       "\\begin{enumerate*}\n",
       "\\item 'Tkr.1'\n",
       "\\item 'Eya\\_1.1'\n",
       "\\item 'Eya\\_1.1'\n",
       "\\item 'Eya\\_1.1'\n",
       "\\item 'Eya\\_1.1'\n",
       "\\item 'Eya\\_1.1'\n",
       "\\item 'Optix'\n",
       "\\item 'Tkr'\n",
       "\\end{enumerate*}\n"
      ],
      "text/markdown": [
       "1. 'Tkr.1'\n",
       "2. 'Eya_1.1'\n",
       "3. 'Eya_1.1'\n",
       "4. 'Eya_1.1'\n",
       "5. 'Eya_1.1'\n",
       "6. 'Eya_1.1'\n",
       "7. 'Optix'\n",
       "8. 'Tkr'\n",
       "\n",
       "\n"
      ],
      "text/plain": [
       "[1] \"Tkr.1\"   \"Eya_1.1\" \"Eya_1.1\" \"Eya_1.1\" \"Eya_1.1\" \"Eya_1.1\" \"Optix\"  \n",
       "[8] \"Tkr\"    "
      ]
     },
     "metadata": {},
     "output_type": "display_data"
    }
   ],
   "source": [
    "actual_names[as.numeric(interaction2)]"
   ]
  },
  {
   "cell_type": "code",
   "execution_count": 44,
   "metadata": {
    "collapsed": false
   },
   "outputs": [
    {
     "data": {},
     "metadata": {},
     "output_type": "display_data"
    },
    {
     "data": {
      "image/png": "[encoded data removed]",
      "text/plain": [
       "plot without title"
      ]
     },
     "metadata": {},
     "output_type": "display_data"
    }
   ],
   "source": [
    "options(repr.plot.width = 3, repr.plot.height = 2)\n",
    "plotImg(late$x[, 'ey'], late$template, FALSE)    "
   ]
  },
  {
   "cell_type": "code",
   "execution_count": null,
   "metadata": {
    "collapsed": true
   },
   "outputs": [],
   "source": []
  }
 ],
 "metadata": {
  "kernelspec": {
   "display_name": "R",
   "language": "R",
   "name": "ir"
  },
  "language_info": {
   "codemirror_mode": "r",
   "file_extension": ".r",
   "mimetype": "text/x-r-source",
   "name": "R",
   "pygments_lexer": "r",
   "version": "3.4.4"
  }
 },
 "nbformat": 4,
 "nbformat_minor": 2
}
